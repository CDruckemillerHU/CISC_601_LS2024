{
 "cells": [
  {
   "cell_type": "markdown",
   "id": "56b91e3f-bb78-4bb9-8395-a5d749cb9761",
   "metadata": {},
   "source": [
    "Scientific Computing I\n",
    "Numerical Methods for Engineers"
   ]
  },
  {
   "cell_type": "markdown",
   "id": "ff8096bf-3c81-4b7c-9759-0f99fb29464b",
   "metadata": {},
   "source": [
    "Chapter 13 Examples"
   ]
  },
  {
   "cell_type": "code",
   "execution_count": 20,
   "id": "180b2aa9-d660-458e-9c36-33d831faf98c",
   "metadata": {},
   "outputs": [
    {
     "name": "stdout",
     "output_type": "stream",
     "text": [
      "Iter 0: x1 = 1.5278640450004204, f(x1) = 1.7647202482716493 | x2 = 2.4721359549995796, f(x2) = 0.6299744699822459\n",
      "Iter 1: x1 = 0.5835921350012616, f(x1) = 1.0679921847976246 | x2 = 0.9442719099991588, f(x2) = 1.530975546926476\n",
      "Iter 2: x1 = 1.1671842700025234, f(x1) = 1.703064862744495 | x2 = 1.3049516849970557, f(x2) = 1.7594519842513348\n",
      "Iter 3: x1 = 1.3900966300058883, f(x1) = 1.7741995070201422 | x2 = 1.4427190999915878, f(x2) = 1.7754747952244816\n",
      "Iter 4: x1 = 1.4752415750147212, f(x1) = 1.773242464322518 | x2 = 1.495341569977287, f(x2) = 1.770704639323706\n",
      "Iter 5: x1 = 1.4551415800521552, f(x1) = 1.7748951809368967 | x2 = 1.4628190949541537, f(x2) = 1.7743682703968482\n",
      "Iter 6: x1 = 1.4474640651501567, f(x1) = 1.7752932022958283 | x2 = 1.4503966148935863, f(x2) = 1.775156378252192\n",
      "Iter 7: x1 = 1.444531515406727, f(x1) = 1.7754112373313444 | x2 = 1.4456516497350174, f(x2) = 1.775368369304754\n",
      "Maximum at x = 1.4436253076991574, f(x) = 1.7754439129799364\n"
     ]
    }
   ],
   "source": [
    "# Example 13.1 Golden Search (p. 360)\n",
    "\n",
    "# Use the golden-section search to find the max of:\n",
    "# f(x) = 2sin(x)-x**2/10 over the interval of xl = 0 xu=4\n",
    "\n",
    "import math\n",
    "\n",
    "# Define the golden ratio constant\n",
    "GOLDEN_RATIO = (math.sqrt(5) - 1) / 2\n",
    "\n",
    "def golden_section_max(lower_bound, upper_bound, f, tol=1e-5, max_iter=100, itx=0):\n",
    "    \"\"\"\n",
    "    Golden Section Search for finding the maximum of a unimodal function `f`\n",
    "    within the interval [lower_bound, upper_bound].\n",
    "    \"\"\"\n",
    "    if itx >= max_iter:  # Sanity check to prevent infinite recursion\n",
    "        return (lower_bound + upper_bound) / 2, f((lower_bound + upper_bound) / 2)\n",
    "    \n",
    "    # Calculate x1 and x2\n",
    "    d = GOLDEN_RATIO * (upper_bound - lower_bound)\n",
    "    x1 = upper_bound - d\n",
    "    x2 = lower_bound + d\n",
    "    f_x1 = f(x1)\n",
    "    f_x2 = f(x2)\n",
    "\n",
    "    # Debugging output\n",
    "    print(f\"Iter {itx}: x1 = {x1}, f(x1) = {f_x1} | x2 = {x2}, f(x2) = {f_x2}\")\n",
    "\n",
    "    # Check termination criteria\n",
    "    if abs(upper_bound - lower_bound) < tol:\n",
    "        # Return the midpoint of the interval and corresponding function value\n",
    "        x_max = (lower_bound + upper_bound) / 2\n",
    "        return x_max, f(x_max)\n",
    "\n",
    "    # Narrow down the interval\n",
    "    if f_x1 < f_x2:  # Maximum is in [x2, upper_bound]\n",
    "        return golden_section_max(x2, upper_bound, f, tol, max_iter, itx + 1)\n",
    "    else:  # Maximum is in [lower_bound, x1]\n",
    "        return golden_section_max(lower_bound, x1, f, tol, max_iter, itx + 1)\n",
    "\n",
    "# Example function\n",
    "def example_function(x):\n",
    "    return 2 * math.sin(x) - ((x**2) / 10)\n",
    "\n",
    "# Call the function\n",
    "result_x, result_fx = golden_section_max(0, 4, example_function, max_iter=8)\n",
    "print(f\"Maximum at x = {result_x}, f(x) = {result_fx}\")\n",
    "\n"
   ]
  },
  {
   "cell_type": "code",
   "execution_count": 25,
   "id": "b03e608b-4d7b-4ad4-aa40-034d034abfc3",
   "metadata": {},
   "outputs": [
    {
     "name": "stdout",
     "output_type": "stream",
     "text": [
      "Iter 0: x0 = 0, f(x0) = 0.0 | x1 = 1, f(x1) = 1.582941969615793 | x2 = 4, f(x2) = -3.1136049906158565 | x3 = 1.5055348739896623, f(x3) = 1.7690789285139574\n",
      "Iter 1: x0 = 1, f(x0) = 1.582941969615793 | x1 = 1.5055348739896623, f(x1) = 1.7690789285139574 | x2 = 4, f(x2) = -3.1136049906158565 | x3 = 1.4902527508500858, f(x3) = 1.77143091252755\n",
      "Iter 2: x0 = 1.5055348739896623, f(x0) = 1.7690789285139574 | x1 = 1.4902527508500858, f(x1) = 1.77143091252755 | x2 = 4, f(x2) = -3.1136049906158565 | x3 = 1.3908075360476508, f(x3) = 1.7742568387954096\n",
      "Iter 3: x0 = 1.4902527508500858, f(x0) = 1.77143091252755 | x1 = 1.3908075360476508, f(x1) = 1.7742568387954096 | x2 = 4, f(x2) = -3.1136049906158565 | x3 = 1.4212014489382125, f(x3) = 1.775681719134393\n",
      "Iter 4: x0 = 1.3908075360476508, f(x0) = 1.7742568387954096 | x1 = 1.4212014489382125, f(x1) = 1.775681719134393 | x2 = 4, f(x2) = -3.1136049906158565 | x3 = 1.4374842819458862, f(x3) = 1.7756180976586005\n",
      "Iter 5: x0 = 1.3908075360476508, f(x0) = 1.7742568387954096 | x1 = 1.4374842819458862, f(x1) = 1.7756180976586005 | x2 = 1.4212014489382125, f(x2) = 1.775681719134393 | x3 = 1.4275473646735475, f(x3) = 1.775725653126182\n",
      "Iter 6: x0 = 1.4374842819458862, f(x0) = 1.7756180976586005 | x1 = 1.4275473646735475, f(x1) = 1.775725653126182 | x2 = 1.4212014489382125, f(x2) = 1.775681719134393 | x3 = 1.4275504100851295, f(x3) = 1.7757256531453736\n",
      "Maximum at x = 1.4275504100851295, f(x) = 1.7757256531453736\n"
     ]
    }
   ],
   "source": [
    "## Example 13.2 Parabolic Interpolation\n",
    "## Use parabolic interpolation to approximate the mex of:\n",
    "# f(x) = 2sin(x)-x**2/10 with initial guesses of 0, 1, & 4\n",
    "\n",
    "\n",
    "def parabolic_interpolation_max(x0, x1, x2, f, tol=1e-5, max_iter=100, idx=0):\n",
    "    \"\"\"\n",
    "    Parabolic interpolation to find the maximum of a unimodal function `f`\n",
    "    with initial guesses x0, x1, and x2.\n",
    "    \"\"\"\n",
    "    if idx >= max_iter:  # Sanity check to prevent infinite recursion\n",
    "        return x1, f(x1)\n",
    "\n",
    "    # Calculate function values at the given points\n",
    "    f_x0, f_x1, f_x2 = f(x0), f(x1), f(x2)\n",
    "\n",
    "    # Compute x3 using the parabolic interpolation formula (Equation 13.7 page 363)\n",
    "    x3_top = (f_x0 * (x1**2 - x2**2) +\n",
    "              f_x1 * (x2**2 - x0**2) +\n",
    "              f_x2 * (x0**2 - x1**2))\n",
    "    x3_bot = (2 * (f_x0 * (x1 - x2) +\n",
    "                   f_x1 * (x2 - x0) +\n",
    "                   f_x2 * (x0 - x1)))\n",
    "    x3 = x3_top / x3_bot\n",
    "    f_x3 = f(x3)\n",
    "\n",
    "    # Debugging output\n",
    "    print(f\"Iter {idx}: x0 = {x0}, f(x0) = {f_x0} | x1 = {x1}, f(x1) = {f_x1} | x2 = {x2}, f(x2) = {f_x2} | x3 = {x3}, f(x3) = {f_x3}\")\n",
    "\n",
    "    # Check for convergence\n",
    "    if abs(x3 - x1) < tol:\n",
    "        return x3, f_x3\n",
    "\n",
    "\n",
    "    # Narrow down the interval based on the function values\n",
    "    if f_x3 > f_x1:\n",
    "        return parabolic_interpolation_max(x1, x3, x2, f, tol, max_iter, idx + 1)\n",
    "    else:\n",
    "        return parabolic_interpolation_max(x0, x3, x1, f, tol, max_iter, idx + 1)\n",
    "\n",
    "\n",
    "# Call the function\n",
    "result_x, result_fx = parabolic_interpolation_max(0, 1, 4, example_function)\n",
    "print(f\"Maximum at x = {result_x}, f(x) = {result_fx}\")\n"
   ]
  },
  {
   "cell_type": "code",
   "execution_count": 27,
   "id": "a30f0d25-2f69-40d1-b1ca-c43dd7aa76e3",
   "metadata": {
    "tags": []
   },
   "outputs": [
    {
     "name": "stdout",
     "output_type": "stream",
     "text": [
      "Iter 0: guess = 2.5, xi = 0.995081551325993, f'(xi) = 0.8898526612955179, f''(xi) = -1.8776067366258122\n",
      "Iter 1: guess = 0.995081551325993, xi = 1.4690107527596457, f'(xi) = -0.09058233023771725, f''(xi) = -2.1896486384865694\n",
      "Iter 2: guess = 1.4690107527596457, xi = 1.4276423210187772, f'(xi) = -0.0001973394672618034, f''(xi) = -2.179541903890041\n",
      "Iter 3: guess = 1.4276423210187772, xi = 1.4275517793013137, f'(xi) = -1.1697889878981016e-09, f''(xi) = -2.17951606140605\n",
      "Iter 4: guess = 1.4275517793013137, xi = 1.4275517787645942, f'(xi) = -1.1102230246251565e-16, f''(xi) = -2.179516061252811\n",
      "Maximum at x = 1.4275517787645942, f(x) = 1.7757256531474153\n"
     ]
    }
   ],
   "source": [
    "## Example 13.3 Newton's Method\n",
    "## Use Newton'smethod to find the max of:\n",
    "# f(x) = 2sin(x)-x**2/10 with the inital guess of 2.5\n",
    "\n",
    "def newton_maximization(guess, f1, f2, tol=1e-5, max_iter=100):\n",
    "    \"\"\"\n",
    "    Newton's Method to find the maximum of a function using its first and second derivatives.\n",
    "    \n",
    "    Parameters:\n",
    "    - guess: Initial guess for the maximum.\n",
    "    - f1: First derivative of the function.\n",
    "    - f2: Second derivative of the function.\n",
    "    - tol: Convergence tolerance.\n",
    "    - max_iter: Maximum number of iterations.\n",
    "    \n",
    "    Returns:\n",
    "    - xi: The x-coordinate of the maximum.\n",
    "    - f(xi): The function value at the maximum.\n",
    "    \"\"\"\n",
    "    for idx in range(max_iter):\n",
    "        # Compute the next guess using Newton's method (Equation 13.8 page 365)\n",
    "        xi = guess - (f1(guess) / f2(guess))\n",
    "        \n",
    "        # Debugging output\n",
    "        print(f\"Iter {idx}: guess = {guess}, xi = {xi}, f'(xi) = {f1(xi)}, f''(xi) = {f2(xi)}\")\n",
    "        \n",
    "        # Check for convergence\n",
    "        if abs(xi - guess) < tol:\n",
    "            return xi, example_function(xi)\n",
    "        \n",
    "        # Update guess\n",
    "        guess = xi\n",
    "    \n",
    "    # If max_iter is reached without convergence, return the last estimate\n",
    "    print(\"Warning: Maximum iterations reached without convergence.\")\n",
    "    return xi, example_function(xi)\n",
    "\n",
    "\n",
    "# First derivative of the example function\n",
    "def example_first_deriv(x):\n",
    "    return 2 * math.cos(x) - x / 5\n",
    "\n",
    "# Second derivative of the example function\n",
    "def example_second_deriv(x):\n",
    "    return -2 * math.sin(x) - 0.2\n",
    "\n",
    "# Call the function\n",
    "result_x, result_fx = newton_maximization(2.5, example_first_deriv, example_second_deriv)\n",
    "print(f\"Maximum at x = {result_x}, f(x) = {result_fx}\")\n"
   ]
  },
  {
   "cell_type": "code",
   "execution_count": 24,
   "id": "213623b8-606d-415c-89a6-0f34169649a2",
   "metadata": {},
   "outputs": [
    {
     "name": "stdout",
     "output_type": "stream",
     "text": [
      "1e-05\n"
     ]
    }
   ],
   "source": []
  },
  {
   "cell_type": "code",
   "execution_count": null,
   "id": "d66f6eb8-e716-4684-813c-9f11f3bb2d10",
   "metadata": {},
   "outputs": [],
   "source": []
  }
 ],
 "metadata": {
  "kernelspec": {
   "display_name": "Python 3 (ipykernel)",
   "language": "python",
   "name": "python3"
  },
  "language_info": {
   "codemirror_mode": {
    "name": "ipython",
    "version": 3
   },
   "file_extension": ".py",
   "mimetype": "text/x-python",
   "name": "python",
   "nbconvert_exporter": "python",
   "pygments_lexer": "ipython3",
   "version": "3.9.7"
  }
 },
 "nbformat": 4,
 "nbformat_minor": 5
}
