{
 "cells": [
  {
   "cell_type": "markdown",
   "id": "56b91e3f-bb78-4bb9-8395-a5d749cb9761",
   "metadata": {},
   "source": [
    "Scientific Computing I\n",
    "Numerical Methods for Engineers"
   ]
  },
  {
   "cell_type": "markdown",
   "id": "ff8096bf-3c81-4b7c-9759-0f99fb29464b",
   "metadata": {},
   "source": [
    "Chapter 13 Examples"
   ]
  },
  {
   "cell_type": "code",
   "execution_count": 1,
   "id": "6f6eac77-7ea2-4212-9246-532960a88cdd",
   "metadata": {},
   "outputs": [
    {
     "name": "stdout",
     "output_type": "stream",
     "text": [
      " x2: 1.5278640450004204 | fx2: 1.7647202482716493 |  x1: 2.4721359549995796 | fx1: 0.6299744699822459 |D: 2.4721359549995796 | \n",
      " x2: 0.5835921350012616 | fx2: 1.0679921847976246 |  x1: 0.9442719099991588 | fx1: 1.530975546926476 |D: 0.9442719099991588 | \n",
      " x2: 1.1671842700025234 | fx2: 1.703064862744495 |  x1: 1.3049516849970557 | fx1: 1.7594519842513348 |D: 0.3606797749978969 | \n",
      " x2: 1.3900966300058883 | fx2: 1.7741995070201422 |  x1: 1.4427190999915878 | fx1: 1.7754747952244816 |D: 0.13776741499453202 | \n",
      " x2: 1.4752415750147212 | fx2: 1.773242464322518 |  x1: 1.495341569977287 | fx1: 1.770704639323706 |D: 0.052622469985699284 | \n",
      " x2: 1.4551415800521552 | fx2: 1.7748951809368967 |  x1: 1.4628190949541537 | fx1: 1.7743682703968482 |D: 0.020099994962565988 | \n",
      " x2: 1.4474640651501567 | fx2: 1.7752932022958283 |  x1: 1.4503966148935863 | fx1: 1.775156378252192 |D: 0.007677514901998539 | \n",
      "1.7752247902740101\n"
     ]
    }
   ],
   "source": [
    "# Example 13.1 Golden Search (p. 360)\n",
    "\n",
    "# Use the golden-section search to find the max of:\n",
    "# f(x) = 2sin(x)-x**2/10 over the interval of xl = 0 xu=4\n",
    "import math\n",
    "\n",
    "def golden_section(lower_bound, upper_bound, f, previous_value=None, itx=0):\n",
    "    if(itx ==8): return ##sanity check\n",
    "    d = golden_ratio(lower_bound, upper_bound)\n",
    "    x1, x2 = (lower_bound + d), (upper_bound -d)\n",
    "    f_x1, f_x2 = f(x1), f(x2) \n",
    "    mid_point = (f_x1+f_x2)/2\n",
    "    print(f\" x2: {x2} | fx2: {f_x2} |  x1: {x1} | fx1: {f_x1} |D: {d} | \")\n",
    "    if (previous_value != None):  ##TODO Implement proper acceptable error?\n",
    "        if (abs(1-(mid_point/f_x1))<0.0001):\n",
    "            return mid_point\n",
    "    if (f_x2 >f_x1):\n",
    "        return golden_section(lower_bound, x2, f, mid_point, itx+1)\n",
    "    else:\n",
    "        return golden_section(x1, upper_bound, f, mid_point, itx+1)\n",
    "        \n",
    "    \n",
    "def golden_ratio(lower_bound, upper_bound):\n",
    "    return ((5**.5-1)/2)*(upper_bound - lower_bound)\n",
    "\n",
    "\n",
    "def example_function(x):\n",
    "    return 2*math.sin(x)-((x**2)/10)\n",
    "\n",
    "\n",
    "print(golden_section(0,4, example_function))\n",
    "\n"
   ]
  },
  {
   "cell_type": "code",
   "execution_count": 66,
   "id": "b4d3395d-f61a-4924-81a3-3d5084763e1b",
   "metadata": {},
   "outputs": [
    {
     "name": "stdout",
     "output_type": "stream",
     "text": [
      "x0: 0 |  fx0: 0.0 | x1: 1 |fx1: 1.582941969615793 |x2: 4 |fx2 : -3.1136049906158565 | x3: 1.5055348739896623 |   fx3: 1.7690789285139574)\n",
      "x0: 1 |  fx0: 1.582941969615793 | x1: 1.5055348739896623 |fx1: 1.7690789285139574 |x2: 4 |fx2 : -3.1136049906158565 | x3: 1.4902527508500858 |   fx3: 1.77143091252755)\n",
      "x0: 1.5055348739896623 |  fx0: 1.7690789285139574 | x1: 1.4902527508500858 |fx1: 1.77143091252755 |x2: 4 |fx2 : -3.1136049906158565 | x3: 1.3908075360476508 |   fx3: 1.7742568387954096)\n",
      "x0: 1.4902527508500858 |  fx0: 1.77143091252755 | x1: 1.3908075360476508 |fx1: 1.7742568387954096 |x2: 4 |fx2 : -3.1136049906158565 | x3: 1.4212014489382125 |   fx3: 1.775681719134393)\n",
      "x0: 1.3908075360476508 |  fx0: 1.7742568387954096 | x1: 1.4212014489382125 |fx1: 1.775681719134393 |x2: 4 |fx2 : -3.1136049906158565 | x3: 1.4374842819458862 |   fx3: 1.7756180976586005)\n",
      "1.7756180976586005\n"
     ]
    }
   ],
   "source": [
    "## Example 13.2 Parabolic Interpolation\n",
    "## Use parabolic interpolation to approximate the mex of:\n",
    "# f(x) = 2sin(x)-x**2/10 with initial guesses of 0, 1, & 4\n",
    "\n",
    "def para_interop(x0, x1, x2, f, idx=0):\n",
    "    if (idx > 5): return  ##sanity check\n",
    "    f_x0, f_x1, f_x2 = [f(x) for x in [x0,x1,x2]]\n",
    "    x3_top = top((f_x0, f_x1, f_x2), [x0,x1,x2])\n",
    "    x3_bot = bot((f_x0, f_x1, f_x2), [x0,x1,x2])\n",
    "    x3= x3_top/x3_bot\n",
    "    f_x3 = f(x3)\n",
    "    print(f\"x0: {x0} |  fx0: {f_x0} | x1: {x1} |fx1: {f_x1} |x2: {x2} |fx2 : {f_x2} | x3: {x3} |   fx3: {f_x3})\")\n",
    "    if(abs(1-(f_x3/f_x1))< .0001):\n",
    "        return f_x3\n",
    "    if (f_x3 > f_x1):\n",
    "        return para_interop(x1, x3, x2, f, idx+1)\n",
    "    else:\n",
    "        return para_interop(x0, x3, x1, f, idx+1)\n",
    "    \n",
    "def top(F_X, X):\n",
    "    return F_X[0]*(X[1]**2-X[2]**2)+F_X[1]*(X[2]**2-X[0]**2)+F_X[2]*(X[0]**2-X[1]**2)\n",
    "                 \n",
    "def bot(F_X, X):\n",
    "    return (2*(F_X[0]*(X[1]-X[2])) + (2*F_X[1]*(X[2]-X[0])) +2*(F_X[2]*(X[0] - X[1])))\n",
    "        \n",
    "print(para_interop(0,1,4, example_function))\n",
    "    "
   ]
  },
  {
   "cell_type": "code",
   "execution_count": 68,
   "id": "18f891fc-f107-498f-8121-28cdbd04c6f7",
   "metadata": {},
   "outputs": [
    {
     "name": "stdout",
     "output_type": "stream",
     "text": [
      "0.995081551325993\n",
      "1.4690107527596457\n",
      "1.4276423210187772\n",
      "1.4275517793013137\n"
     ]
    },
    {
     "data": {
      "text/plain": [
       "1.4275517793013137"
      ]
     },
     "execution_count": 68,
     "metadata": {},
     "output_type": "execute_result"
    }
   ],
   "source": [
    "## Example 13.3 Newton's Method\n",
    "## Use Newton'smethod to find the max of:\n",
    "# f(x) = 2sin(x)-x**2/10 with the inital guess of 2.5\n",
    "\n",
    "\n",
    "def newton(guess, f, f1, f2, idx=0):\n",
    "    if idx > 5: return\n",
    "    xi = guess - (f1(guess)/f2(guess))\n",
    "    print(xi)\n",
    "    if(abs(1-(xi/guess)) <.0001):\n",
    "        return xi\n",
    "    else:\n",
    "        return newton(xi, f, f1, f2, idx+1)\n",
    "    \n",
    "def example_first_deriv(x):\n",
    "    return 2*math.cos(x)-x/5\n",
    "\n",
    "def example_second_deriv(x):\n",
    "    return -2*math.sin(x)-.2\n",
    "\n",
    "newton(2.5, example_function, example_first_deriv, example_second_deriv)\n",
    "    "
   ]
  },
  {
   "cell_type": "markdown",
   "id": "36468c1a-c818-48e2-bcac-47c3d2b3faff",
   "metadata": {},
   "source": [
    "<h3>Brent's Method?</h3>"
   ]
  },
  {
   "cell_type": "code",
   "execution_count": null,
   "id": "5667990d-db25-4af6-b183-89dae54627c7",
   "metadata": {},
   "outputs": [],
   "source": []
  }
 ],
 "metadata": {
  "kernelspec": {
   "display_name": "Python 3 (ipykernel)",
   "language": "python",
   "name": "python3"
  },
  "language_info": {
   "codemirror_mode": {
    "name": "ipython",
    "version": 3
   },
   "file_extension": ".py",
   "mimetype": "text/x-python",
   "name": "python",
   "nbconvert_exporter": "python",
   "pygments_lexer": "ipython3",
   "version": "3.9.7"
  }
 },
 "nbformat": 4,
 "nbformat_minor": 5
}
