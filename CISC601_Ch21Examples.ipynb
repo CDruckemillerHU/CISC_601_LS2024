{
 "cells": [
  {
   "cell_type": "markdown",
   "id": "5f4f58cd-1507-49ce-a769-4cca70c82d42",
   "metadata": {},
   "source": [
    "Scientific Computing I\n",
    "Numerical Methods for Engineers"
   ]
  },
  {
   "cell_type": "markdown",
   "id": "05a7d3f9-f00c-4f76-be25-c7030da50725",
   "metadata": {},
   "source": [
    "Chapter 21 Examples (Simpsons Rule Only)"
   ]
  },
  {
   "cell_type": "code",
   "execution_count": 7,
   "id": "1a65b0b4-4e09-444a-9c33-0a40d157063a",
   "metadata": {},
   "outputs": [
    {
     "name": "stdout",
     "output_type": "stream",
     "text": [
      "Estimated Integral: 1.3674666666666744\n",
      "True Integral: 1.640533\n",
      "Relative Error: 0.1664497656147884\n"
     ]
    }
   ],
   "source": [
    "## Example 21.4 Single Application of Simpson's 1/3 Rule\n",
    "## Use Eq. 21.15 to integrate f(x) = .2 + 25x - 200x^2 + 675x^3 - 900x^4 + 400x^5\n",
    "## from a=0 to b=.8\n",
    "## Plug and chug gives us f(0) = .2, f(.4) = 2.456, f(.8) = .232\n",
    "\n",
    "# Define the function to integrate\n",
    "def example_function(x):\n",
    "    return 0.2 + 25*x - 200*x**2 + 675*x**3 - 900*x**4 + 400*x**5\n",
    "\n",
    "# Evaluate f(x) at key points\n",
    "x0 = example_function(0)\n",
    "x1 = example_function(0.4)\n",
    "x2 = example_function(0.8)\n",
    "\n",
    "# Simpson's 1/3 Rule implementation\n",
    "def simpson_one_third(a, b, f0, f1, f2):\n",
    "    width = b - a\n",
    "    average_height = (f0 + 4*f1 + f2) / 6\n",
    "    return width * average_height ## Eq. 21.15 pg 616\n",
    "\n",
    "# Calculate the integral and the error\n",
    "estimated_integral = simpson_one_third(0, 0.8, x0, x1, x2)\n",
    "true_integral = 1.640533\n",
    "\n",
    "def estimate_error(true_value, estimated_value):\n",
    "    return (true_value - estimated_value) / true_value\n",
    "\n",
    "error = estimate_error(true_integral, estimated_integral)\n",
    "\n",
    "# Print results\n",
    "print(\"Estimated Integral:\", estimated_integral)\n",
    "print(\"True Integral:\", true_integral)\n",
    "print(\"Relative Error:\", error)\n",
    "\n",
    "    "
   ]
  },
  {
   "cell_type": "code",
   "execution_count": 8,
   "id": "c9838a84-483c-4af1-ae3e-1325d8006bbe",
   "metadata": {},
   "outputs": [
    {
     "name": "stdout",
     "output_type": "stream",
     "text": [
      "Estimated Integral: 1.623466666666664\n",
      "True Integral: 1.640533\n",
      "Relative Error: 0.010402919864053981\n"
     ]
    }
   ],
   "source": [
    "## Example 2.15 Multiple-Application Version of Simpson's 1/3 Rule\n",
    "## Use Equation 21.18 with n = 4 to estimate the integral of the example problem from Example 21.4\n",
    "## n=4 and h=.2\n",
    "# Define the function to integrate\n",
    "def example_function(x):\n",
    "    return 0.2 + 25*x - 200*x**2 + 675*x**3 - 900*x**4 + 400*x**5\n",
    "\n",
    "# Evaluate f(x) at key points\n",
    "a = example_function(0)\n",
    "e = example_function(0.2)\n",
    "b = example_function(0.4)\n",
    "f = example_function(0.6)\n",
    "c = example_function(0.8)\n",
    "\n",
    "# Multiple-application Simpson's 1/3 Rule\n",
    "def multiple_simpson(a, b, y_values, n):\n",
    "    h = (b - a) / n\n",
    "    sum_odd = sum(y_values[i] for i in range(1, n, 2))\n",
    "    sum_even = sum(y_values[i] for i in range(2, n, 2))\n",
    "    return (h / 3) * (y_values[0] + 4 * sum_odd + 2 * sum_even + y_values[n])\n",
    "\n",
    "# Calculate the integral\n",
    "y_values = [a, e, b, f, c]\n",
    "result = multiple_simpson(0, 0.8, y_values, 4)\n",
    "\n",
    "# Estimate the error\n",
    "true_integral = 1.640533\n",
    "\n",
    "def estimate_error(true_value, estimated_value):\n",
    "    return (true_value - estimated_value) / true_value\n",
    "\n",
    "error = estimate_error(true_integral, result)\n",
    "\n",
    "# Print results\n",
    "print(\"Estimated Integral:\", result)\n",
    "print(\"True Integral:\", true_integral)\n",
    "print(\"Relative Error:\", error)\n"
   ]
  },
  {
   "cell_type": "code",
   "execution_count": 10,
   "id": "2272f601-ddb1-4573-b198-2495741450ae",
   "metadata": {},
   "outputs": [
    {
     "name": "stdout",
     "output_type": "stream",
     "text": [
      "Estimated Integral: 1.5192088326755533\n",
      "True Integral: 1.640533\n",
      "Relative Error: 0.07395411571998048\n"
     ]
    }
   ],
   "source": [
    "## Example 21.6 Simpson's 3/8 Rule\n",
    "## (a) Use Simpson's 3/8 rule to integrate the example problem from Example 21.4 from 0 to .8\n",
    "## (b) Use it in conjection with Simpson's 1/3 rules to integrate the same function for five segments\n",
    "\n",
    "\n",
    "# Define the function\n",
    "def example_function(x):\n",
    "    return 0.2 + 25*x - 200*x**2 + 675*x**3 - 900*x**4 + 400*x**5\n",
    "\n",
    "# Evaluate function at key points\n",
    "a = example_function(0)\n",
    "b = example_function(0.2667)\n",
    "c = example_function(0.53333)\n",
    "d = example_function(0.8)\n",
    "\n",
    "# Implement Simpson's 3/8 Rule\n",
    "def simpson_three_eighths(a, b, x0, x1, x2, x3):\n",
    "    width = b - a\n",
    "    average_height = (x0 + 3*x1 + 3*x2 + x3) / 8\n",
    "    return width * average_height\n",
    "\n",
    "# Calculate estimated integral\n",
    "estimate = simpson_three_eighths(0, 0.8, a, b, c, d)\n",
    "\n",
    "# Calculate error\n",
    "true_value = 1.640533\n",
    "\n",
    "def estimate_error(true_value, estimated_value):\n",
    "    return (true_value - estimated_value) / true_value\n",
    "\n",
    "error = estimate_error(true_value, estimate)\n",
    "\n",
    "# Print results\n",
    "print(\"Estimated Integral:\", estimate)\n",
    "print(\"True Integral:\", true_value)\n",
    "print(\"Relative Error:\", error)\n",
    "\n"
   ]
  },
  {
   "cell_type": "code",
   "execution_count": 11,
   "id": "e94c186f-6bb6-46af-9329-da2299519237",
   "metadata": {},
   "outputs": [
    {
     "name": "stdout",
     "output_type": "stream",
     "text": [
      "Function values: 0.2, 1.2969190400000006, 1.7433932800000036, 3.1860147200000064, 3.181928960000043, 0.23200000000005616\n",
      "Combined Estimate: 1.6450771626666796\n",
      "Relative Error: -0.0027699306668500807\n"
     ]
    }
   ],
   "source": [
    "## 5 Segment part b\n",
    "import numpy as np\n",
    "\n",
    "# Define the function\n",
    "def example_function(x):\n",
    "    return 0.2 + 25*x - 200*x**2 + 675*x**3 - 900*x**4 + 400*x**5\n",
    "\n",
    "# Evaluate function at key points\n",
    "a, b, c, d, e, f = [example_function(x) for x in np.linspace(0, 0.8, 6)]\n",
    "print(f\"Function values: {a}, {b}, {c}, {d}, {e}, {f}\")\n",
    "\n",
    "# Simpson's 1/3 Rule\n",
    "def simpson_one_third(a, b, x0, x1, x2):\n",
    "    width = b - a\n",
    "    average_height = (x0 + 4 * x1 + x2) / 6\n",
    "    return width * average_height\n",
    "\n",
    "# Simpson's 3/8 Rule\n",
    "def simpson_three_eighths(a, b, x0, x1, x2, x3):\n",
    "    width = b - a\n",
    "    average_height = (x0 + 3 * x1 + 3 * x2 + x3) / 8\n",
    "    return width * average_height\n",
    "\n",
    "# Apply rules\n",
    "first_simpson = simpson_one_third(0, 0.32, a, b, c)\n",
    "second_simpson = simpson_three_eighths(0.32, 0.8, c, d, e, f)\n",
    "\n",
    "# Combine results\n",
    "combined = first_simpson + second_simpson\n",
    "print(f\"Combined Estimate: {combined}\")\n",
    "\n",
    "# Error estimation\n",
    "true_value = 1.640533\n",
    "\n",
    "def estimate_error(true_value, estimated_value):\n",
    "    return (true_value - estimated_value) / true_value\n",
    "\n",
    "error = estimate_error(true_value, combined)\n",
    "print(f\"Relative Error: {error}\")\n",
    "\n"
   ]
  },
  {
   "cell_type": "code",
   "execution_count": null,
   "id": "f2caa94f-7f1d-4d96-97d9-e5a6ee734e09",
   "metadata": {},
   "outputs": [],
   "source": []
  }
 ],
 "metadata": {
  "kernelspec": {
   "display_name": "Python 3 (ipykernel)",
   "language": "python",
   "name": "python3"
  },
  "language_info": {
   "codemirror_mode": {
    "name": "ipython",
    "version": 3
   },
   "file_extension": ".py",
   "mimetype": "text/x-python",
   "name": "python",
   "nbconvert_exporter": "python",
   "pygments_lexer": "ipython3",
   "version": "3.9.7"
  }
 },
 "nbformat": 4,
 "nbformat_minor": 5
}
