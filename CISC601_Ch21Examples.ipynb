{
 "cells": [
  {
   "cell_type": "markdown",
   "id": "5f4f58cd-1507-49ce-a769-4cca70c82d42",
   "metadata": {},
   "source": [
    "Scientific Computing I\n",
    "Numerical Methods for Engineers"
   ]
  },
  {
   "cell_type": "markdown",
   "id": "05a7d3f9-f00c-4f76-be25-c7030da50725",
   "metadata": {},
   "source": [
    "Chapter 21 Examples (Simpsons Rule Only)"
   ]
  },
  {
   "cell_type": "code",
   "execution_count": 59,
   "id": "1a65b0b4-4e09-444a-9c33-0a40d157063a",
   "metadata": {},
   "outputs": [
    {
     "name": "stdout",
     "output_type": "stream",
     "text": [
      "0.2 2.4560000000000004 0.23200000000005616\n",
      "0.16644956242879602\n"
     ]
    }
   ],
   "source": [
    "## Example 21.4 Single Application of Simpson's 1/3 Rule\n",
    "## Use Eq. 21.15 to integrate f(x) = .2 + 25x - 200x^2 + 675x^3 - 900x^4 + 400x^5\n",
    "## from a=0 to b=.8\n",
    "## Plug and chug gives us f(0) = .2, f(.4) = 2.456, f(.8) = .232\n",
    "\n",
    "def example_function(x):\n",
    "    return .2 + 25*x - 200*x**2 + 675*x**3 -900*x**4 + 400*x**5\n",
    "\n",
    "a = example_function(0)\n",
    "b = example_function(.4)\n",
    "c = example_function(.8)\n",
    "print(a,b,c)\n",
    "\n",
    "def simpson_one_third(a,b, x0, x1, x2):\n",
    "    width = b-a\n",
    "    average_height = (x0+4*x1+x2)/6\n",
    "\n",
    "    return width*average_height\n",
    "\n",
    "estimate = simpson_one_third(0,.8, a,b,c)\n",
    "true = 1.640533\n",
    "def est_err(true, est):\n",
    "    return (true-est)/true\n",
    "error = est_err(true,1.367467)\n",
    "print(error)\n",
    "    "
   ]
  },
  {
   "cell_type": "code",
   "execution_count": 30,
   "id": "c9838a84-483c-4af1-ae3e-1325d8006bbe",
   "metadata": {},
   "outputs": [
    {
     "name": "stdout",
     "output_type": "stream",
     "text": [
      "1.2879999999999996 3.4639999999999773\n",
      "1.623466666666664 0.010402919864053981\n"
     ]
    }
   ],
   "source": [
    "## Example 2.15 Multiple-Application Version of Simpson's 1/3 Rule\n",
    "## Use Equation 21.18 with n = 4 to estimate the integral of the example problem from Example 21.4\n",
    "## n=4 and h=.2\n",
    "(e,f) = example_function(.2), example_function(.6)\n",
    "print(e,f)\n",
    "\n",
    "def multiple_simpson(a,b,y,n):\n",
    "    h = (b-a)/n\n",
    "    sum_odd = sum(y[i] for i in range(1,n,2))\n",
    "    sum_even = sum(y[i] for i in range(2,n,2))\n",
    "\n",
    "    return (h/3) * (y[0] + 4 * sum_odd + 2 * sum_even + y[n]) ## Width * first value plus 4 * first sigma of odds (21.18) + 2 * second sigma of evens + the last value in your point list (y)\n",
    "\n",
    "result = (multiple_simpson(0,.8, [a,e,b,f,c], 4))\n",
    "err = est_err(true,result)\n",
    "print(result, err)"
   ]
  },
  {
   "cell_type": "code",
   "execution_count": 39,
   "id": "2272f601-ddb1-4573-b198-2495741450ae",
   "metadata": {},
   "outputs": [
    {
     "name": "stdout",
     "output_type": "stream",
     "text": [
      "0.2 1.4328636567901014 3.4871657854617233 0.23200000000005616\n",
      "1.5192088326755533\n"
     ]
    }
   ],
   "source": [
    "## Example 21.6 Simpson's 3/8 Rule\n",
    "## (a) Use Simpson's 3/8 rule to integrate the example problem from Example 21.4 from 0 to .8\n",
    "## (b) Use it in conjection with Simpson's 1/3 rules to integrate the same function for five segments\n",
    "\n",
    "\n",
    "## Single Application Part A:\n",
    "a,b,c,d = example_function(0), example_function(.2667), example_function(.53333), example_function(.8)\n",
    "print(a,b,c,d)\n",
    "\n",
    "\n",
    "def simpson_three_eigth(a,b, x0,x1,x2,x3):\n",
    "    width = b-a\n",
    "    ave_height = (x0 + 3*x1 + 3*x2 + x3)/8\n",
    "    return width*ave_height\n",
    "\n",
    "print(simpson_three_eigth(0,.8,a,b,c,d))\n"
   ]
  },
  {
   "cell_type": "code",
   "execution_count": 74,
   "id": "e94c186f-6bb6-46af-9329-da2299519237",
   "metadata": {},
   "outputs": [
    {
     "name": "stdout",
     "output_type": "stream",
     "text": [
      "0.2 1.2969190400000006 1.7433932800000036 3.1860147200000064 3.181928960000043 0.23200000000005616\n",
      "0.38032370346666705\n",
      "1.2647534592000125\n",
      "1.6450771626666796\n",
      "1.6450771626666796 -0.0027699306668500807\n"
     ]
    }
   ],
   "source": [
    "## 5 Segment part b\n",
    "import numpy as np\n",
    "a, b, c, d, e,f = [example_function(x) for x in np.linspace(0, 0.8, 6)]\n",
    "print(a,b,c,d,e,f)\n",
    "\n",
    "\n",
    "first_simpson = simpson_one_third(0,.32, a,b,c)\n",
    "print(first_simpson)\n",
    "second_simpson = simpson_three_eigth(.32, .8, c,d,e,f)\n",
    "print(second_simpson)\n",
    "\n",
    "combined = first_simpson+ second_simpson\n",
    "print(combined)\n",
    "err = est_err(true,combined)\n",
    "print(combined,err)"
   ]
  },
  {
   "cell_type": "code",
   "execution_count": 73,
   "id": "f32d9fac-68fc-4432-a36b-96b4548ca0f3",
   "metadata": {},
   "outputs": [
    {
     "ename": "TypeError",
     "evalue": "'float' object cannot be interpreted as an integer",
     "output_type": "error",
     "traceback": [
      "\u001b[1;31m---------------------------------------------------------------------------\u001b[0m",
      "\u001b[1;31mTypeError\u001b[0m                                 Traceback (most recent call last)",
      "\u001b[1;32m~\\AppData\\Local\\Temp/ipykernel_29016/822979032.py\u001b[0m in \u001b[0;36m<module>\u001b[1;34m\u001b[0m\n\u001b[1;32m----> 1\u001b[1;33m \u001b[1;32mfor\u001b[0m \u001b[0mx\u001b[0m \u001b[1;32min\u001b[0m \u001b[0mrange\u001b[0m\u001b[1;33m(\u001b[0m\u001b[1;36m0\u001b[0m\u001b[1;33m,\u001b[0m\u001b[1;36m.9\u001b[0m\u001b[1;33m,\u001b[0m\u001b[1;36m.1\u001b[0m\u001b[1;33m)\u001b[0m\u001b[1;33m:\u001b[0m\u001b[1;33m\u001b[0m\u001b[1;33m\u001b[0m\u001b[0m\n\u001b[0m\u001b[0;32m      2\u001b[0m     \u001b[0mprint\u001b[0m\u001b[1;33m(\u001b[0m\u001b[0mx\u001b[0m\u001b[1;33m)\u001b[0m\u001b[1;33m\u001b[0m\u001b[1;33m\u001b[0m\u001b[0m\n",
      "\u001b[1;31mTypeError\u001b[0m: 'float' object cannot be interpreted as an integer"
     ]
    }
   ],
   "source": [
    "for x in range(0,.9,.1):\n",
    "    print(x)"
   ]
  },
  {
   "cell_type": "code",
   "execution_count": null,
   "id": "f2caa94f-7f1d-4d96-97d9-e5a6ee734e09",
   "metadata": {},
   "outputs": [],
   "source": []
  }
 ],
 "metadata": {
  "kernelspec": {
   "display_name": "Python 3 (ipykernel)",
   "language": "python",
   "name": "python3"
  },
  "language_info": {
   "codemirror_mode": {
    "name": "ipython",
    "version": 3
   },
   "file_extension": ".py",
   "mimetype": "text/x-python",
   "name": "python",
   "nbconvert_exporter": "python",
   "pygments_lexer": "ipython3",
   "version": "3.9.7"
  }
 },
 "nbformat": 4,
 "nbformat_minor": 5
}
