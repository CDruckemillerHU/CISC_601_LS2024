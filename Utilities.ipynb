{
 "cells": [
  {
   "cell_type": "markdown",
   "id": "432cdedc-f03f-4223-aca8-4659ce9bf0fe",
   "metadata": {},
   "source": [
    "Base helper functions"
   ]
  },
  {
   "cell_type": "code",
   "execution_count": 1,
   "id": "b645db78-4ba3-4f95-8722-03080ad86e16",
   "metadata": {},
   "outputs": [],
   "source": [
    "def estimated_error(true,estimate):\n",
    "    return (true-estimate)/true"
   ]
  },
  {
   "cell_type": "code",
   "execution_count": null,
   "id": "0784aba2-cf6f-41b1-a1a5-d5cbea77e0b2",
   "metadata": {},
   "outputs": [],
   "source": []
  }
 ],
 "metadata": {
  "kernelspec": {
   "display_name": "Python 3 (ipykernel)",
   "language": "python",
   "name": "python3"
  },
  "language_info": {
   "codemirror_mode": {
    "name": "ipython",
    "version": 3
   },
   "file_extension": ".py",
   "mimetype": "text/x-python",
   "name": "python",
   "nbconvert_exporter": "python",
   "pygments_lexer": "ipython3",
   "version": "3.9.7"
  }
 },
 "nbformat": 4,
 "nbformat_minor": 5
}
