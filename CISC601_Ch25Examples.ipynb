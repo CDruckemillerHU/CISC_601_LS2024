{
 "cells": [
  {
   "cell_type": "markdown",
   "id": "6ab1cfeb-713d-4b8b-8c00-61b934ce2f3c",
   "metadata": {},
   "source": [
    "Scientific Computing II Numerical Methods for Engineers\n",
    "\n",
    "Chapter 25 - Runge-Kutta"
   ]
  },
  {
   "cell_type": "code",
   "execution_count": 17,
   "id": "8a8a62cb-bbe3-4606-981d-dddbf8f90aa4",
   "metadata": {},
   "outputs": [
    {
     "name": "stdout",
     "output_type": "stream",
     "text": [
      "Collecting nbimporter\n",
      "  Downloading nbimporter-0.3.4-py3-none-any.whl (4.9 kB)\n",
      "Installing collected packages: nbimporter\n",
      "Successfully installed nbimporter-0.3.4\n"
     ]
    }
   ],
   "source": [
    "!pip install nbimporter"
   ]
  },
  {
   "cell_type": "code",
   "execution_count": 3,
   "id": "a782af77-f2d7-4273-85d5-f177b99928e3",
   "metadata": {},
   "outputs": [
    {
     "name": "stdout",
     "output_type": "stream",
     "text": [
      "1.0\n",
      "5.25\n",
      "-0.6310679611650486\n",
      "5.875\n",
      "-0.9583333333333334\n"
     ]
    }
   ],
   "source": [
    "## Example 25.1 Euler's Method\n",
    "import nbimporter\n",
    "import Utilities\n",
    "\n",
    "def example_probem(x):\n",
    "    return -2*x**3 + 12*x**2 - 20*x + 8.5\n",
    "\n",
    "def integrated_ex(x):\n",
    "    return -.5*x**4 + 4*x**3 -10*x**2 + 8.5*x + 1\n",
    "\n",
    "f0 = integrated_ex(0)\n",
    "print(f0)\n",
    "estimate = f0 + example_probem(0)*.5 ## Mid point is found using starting point then \n",
    "print(estimate)\n",
    "true = integrated_ex(.5)\n",
    "\n",
    "print(Utilities.estimated_error(true, estimate))\n",
    "\n",
    "f2 = estimate + example_probem(.5)*.5\n",
    "print(f2)\n",
    "print(Utilities.estimated_error(integrated_ex(1), f2))\n",
    "#Rinse and repeat, error typically gets worse"
   ]
  },
  {
   "cell_type": "code",
   "execution_count": 4,
   "id": "b4bf9131-ff59-442b-9e33-7b60eceb24be",
   "metadata": {},
   "outputs": [
    {
     "name": "stdout",
     "output_type": "stream",
     "text": [
      "3.109375\n",
      "3.21875\n"
     ]
    }
   ],
   "source": [
    "## Example 25.6\n",
    "\n",
    "def midpoint(x,y,h, func):\n",
    "    k1 = func(x) ## Unnecessasry step for now\n",
    "    k2 = func(x+.5*h)\n",
    "    return 1 + k2*h\n",
    "    \n",
    "est = midpoint(0,1,.5, example_probem)\n",
    "print(est)\n",
    "print(integrated_ex(.5))"
   ]
  },
  {
   "cell_type": "code",
   "execution_count": 6,
   "id": "dd0864f5-e451-48d1-899a-01644dbc676a",
   "metadata": {},
   "outputs": [
    {
     "name": "stdout",
     "output_type": "stream",
     "text": [
      "3.21875\n",
      "3.75169949996479\n"
     ]
    }
   ],
   "source": [
    "## Example 25.7\n",
    "import math\n",
    "\n",
    "def fourth_order_x_only(x,y, h,func):\n",
    "    k1 = func(x)\n",
    "    k2 = func(x+.5*h)\n",
    "    k3 = k2\n",
    "    k4 = func(x+h)\n",
    "    est = y + ((k1 + 2*k2 + 2*k3 + k4)*h)/6\n",
    "    return est\n",
    "\n",
    "\n",
    "    \n",
    "est = fourth_order_x_only(0,1,.5, example_probem)\n",
    "print(est)\n",
    "\n",
    "def fourth_order(x,y,h,func):\n",
    "    k1 = func(x,y)\n",
    "    k2 = func(x+.5*h, y+.5*k1*h)\n",
    "    k3 = func(x+.5*h, y+.5*k2*h)\n",
    "    k4 = func(x+h,    y+k3*h)\n",
    "    # print(k1, k2,k3)\n",
    "    est = y + 1/6*(k1 + 2*k2 + 2*k3 + k4)*h\n",
    "    return est\n",
    "\n",
    "def example_2(x,y):\n",
    "    return 4*math.exp(0.8*x)-0.5*y\n",
    "\n",
    "est2 = fourth_order(0,2,.5,example_2)\n",
    "print(est2)\n"
   ]
  },
  {
   "cell_type": "code",
   "execution_count": 168,
   "id": "9bb7f956-ddbe-4f12-a079-ccecd733963b",
   "metadata": {
    "jupyter": {
     "source_hidden": true
    },
    "tags": []
   },
   "outputs": [
    {
     "name": "stdout",
     "output_type": "stream",
     "text": [
      "k1s:  -2.0 1.8000000000000003\n",
      "3.5 6.45 \n",
      "\n",
      "k2s:  -1.75 1.7149999999999999\n",
      "3.5625 6.42875 \n",
      "\n",
      "k3s:  -1.78125 1.7151250000000002\n",
      "3.5546875 6.42878125 \n",
      "\n",
      "k4s:  -1.77734375 1.7158968750000003\n",
      "3.5556640625 6.42897421875 \n",
      "\n"
     ]
    }
   ],
   "source": [
    "## Example 25.10\n",
    "def ex_3(y):\n",
    "    return -0.5*y\n",
    "\n",
    "def ex_4(y1, y2):\n",
    "    return 4 - 0.3*y2 - 0.1*y1\n",
    "h=0.5\n",
    "\n",
    "ys = 0,4,6\n",
    "k11 = ex_3(ys[1])\n",
    "k12 = ex_4(ys[1], ys[2])\n",
    "print(\"k1s: \", k11,k12)\n",
    "y1 = ys[1]+ k11*h*.5\n",
    "y2 = ys[2] + k12*h*.5\n",
    "print(y1, y2,\"\\n\")\n",
    "\n",
    "ys_1 = [h*.5, y1, y2]\n",
    "k21 = ex_3(ys_1[1])\n",
    "k22 = ex_4(ys_1[1],ys_1[2])\n",
    "print(\"k2s: \",k21, k22)\n",
    "y1 = ys[1]+ k21*h*.5\n",
    "y2 = ys[2] + k22*h*.5\n",
    "print(y1, y2, \"\\n\")\n",
    "\n",
    "ys_2 = [h*.5, y1, y2]\n",
    "k31 = ex_3(ys_2[1])\n",
    "k32 = ex_4(ys_2[1],ys_2[2])\n",
    "print(\"k3s: \",k31, k32)\n",
    "y1 = ys[1] + k31*h*.5\n",
    "y2 = ys[2] + k32*h*.5\n",
    "print(y1, y2, \"\\n\")\n",
    "\n",
    "ys_3 = [h*.5, y1, y2]\n",
    "k41 = ex_3(ys_3[1])\n",
    "k42 = ex_4(ys_3[1],ys_3[2])\n",
    "print(\"k4s: \",k41, k42)\n",
    "y1 = ys[1] + k41*h*.5\n",
    "y2 = ys[2] + k42*h*.5\n",
    "print(y1, y2, \"\\n\")\n",
    "\n"
   ]
  },
  {
   "cell_type": "code",
   "execution_count": 179,
   "id": "895ba42a-aaf5-4788-b243-637c2aa2a60d",
   "metadata": {},
   "outputs": [
    {
     "name": "stdout",
     "output_type": "stream",
     "text": [
      "3.0 6.4021637139698715 4.701081856984936\n",
      "15.105846327501713\n",
      "3.0 4.217298790565081 3.912974092923811\n",
      "6.201037072414292\n",
      "5.801645177762726 8.729537860298365 7.997564689664456\n",
      "14.8624835881192\n",
      "0.016224182625500797\n"
     ]
    }
   ],
   "source": [
    "## Example 25.12\n",
    "\n",
    "def adaptive_runge(x, y,h, func):\n",
    "    est_1 = fourth_order(x,y,h,func)\n",
    "    print(est_1)\n",
    "    est_2 = fourth_order(x,y,h/2,func)\n",
    "    print(est_2)\n",
    "    est_3 = fourth_order(x+h/2,est_2,h/2,func)\n",
    "    print(est_3)\n",
    "    return est_1, est_2, est_3\n",
    "    \n",
    "ests = adaptive_runge(0,2,2,example_2)\n",
    "\n",
    "true = 14.84392\n",
    "error = (ests[0] -ests[-1])/15\n",
    "print(error)\n"
   ]
  },
  {
   "cell_type": "code",
   "execution_count": 193,
   "id": "947ac000-a57b-468c-bb80-7159220ca4f7",
   "metadata": {},
   "outputs": [
    {
     "name": "stdout",
     "output_type": "stream",
     "text": [
      "3.0 3.9085110573438286 4.359882620869213 6.8325867002588625 12.098305719101804 10.132371404698393\n",
      "(14.831923643124316, 14.836765500326498)\n",
      "Error:  0.004841857202181998\n"
     ]
    }
   ],
   "source": [
    "## Example 25.13\n",
    "\n",
    "def cash_karp(x,y,h,func):\n",
    "    k1 = func(x,y)\n",
    "    k2 = func(x+.2*h,  y + .2*k1*h)\n",
    "    k3 = func(x+.3*h,  y + .075*k1*h + .225*k2*h)\n",
    "    k4 = func(x+.6*h,  y + .3*k1*h - .9*k2*h +    1.2*k3*h)\n",
    "    k5 = func(x+h,     y - (11/54)*k1*h + 2.5*k2*h - (70/27)*k3*h +(35/27)*k4*h)\n",
    "    k6 = func(x+.875*h,y + (1631/55296)*k1*h + (175/512)*k2*h + (575/13824)*k3*h + (44275/110592)*k4*h + (253/4096)*k5*h)\n",
    "    print(k1,k2,k3,k4,k5,k6)\n",
    "    \n",
    "    fourth_est = y + ((37/378)*k1 + (250/621)*k3 + (125/594)*k4 + (512/1771)*k6)*h\n",
    "    fifth_est = y + ((2825/27648)*k1 + (18575/48384)*k3 + (13525/55296)*k4 + (277/14336)*k5 + (1/4)*k6)*h\n",
    "    \n",
    "    return fourth_est, fifth_est\n",
    "\n",
    "estimates = cash_karp(0,2,2,example_2)\n",
    "print(estimates)\n",
    "print(\"Error: \", estimates[1] - estimates[0])"
   ]
  },
  {
   "cell_type": "code",
   "execution_count": 190,
   "id": "a919d6c1-6b15-49c2-89d2-822375202da4",
   "metadata": {},
   "outputs": [
    {
     "data": {
      "text/plain": [
       "0.09788359788359788"
      ]
     },
     "execution_count": 190,
     "metadata": {},
     "output_type": "execute_result"
    }
   ],
   "source": []
  },
  {
   "cell_type": "code",
   "execution_count": null,
   "id": "2d72b194-b7ef-4d89-8664-6fbc06eda09f",
   "metadata": {},
   "outputs": [],
   "source": []
  }
 ],
 "metadata": {
  "kernelspec": {
   "display_name": "Python 3 (ipykernel)",
   "language": "python",
   "name": "python3"
  },
  "language_info": {
   "codemirror_mode": {
    "name": "ipython",
    "version": 3
   },
   "file_extension": ".py",
   "mimetype": "text/x-python",
   "name": "python",
   "nbconvert_exporter": "python",
   "pygments_lexer": "ipython3",
   "version": "3.9.7"
  }
 },
 "nbformat": 4,
 "nbformat_minor": 5
}
