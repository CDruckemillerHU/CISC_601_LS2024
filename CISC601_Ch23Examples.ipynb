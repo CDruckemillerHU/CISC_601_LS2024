{
 "cells": [
  {
   "cell_type": "markdown",
   "id": "a59a5f73-d13d-45cd-af7b-fbad232e6d4f",
   "metadata": {},
   "source": [
    "Scientific Computing II Numerical Methods for Engineers\n",
    "\n",
    "Chapter 23"
   ]
  },
  {
   "cell_type": "code",
   "execution_count": 15,
   "id": "05986170-cc75-46ab-804f-b0f643408031",
   "metadata": {},
   "outputs": [
    {
     "name": "stdout",
     "output_type": "stream",
     "text": [
      "[0, 0.25, 0.5, 0.75, 1]\n",
      "[1.2, 1.1035156, 0.925, 0.6363281, 0.2]\n",
      "-0.859375\n",
      "-0.878125\n",
      "-0.9125\n"
     ]
    }
   ],
   "source": [
    "## Example 23.1 High Accuracy Differentiaion Formulas\n",
    "# Estimate the derivate of -0.1x^4 = 0.15x^3 - 0.5x^2 - 0.25x + 1.2 at x = 0.5 using finite divided differences and a step size of 0.25\n",
    "\n",
    "def example_problem(x):\n",
    "    return round(-0.1*x**4 - 0.15*x**3 - 0.5*x**2 - 0.25*x + 1.2, 7)\n",
    "\n",
    "data = [0,0.25, .5, 0.75, 1]\n",
    "out = [example_problem(x) for x in data]\n",
    "\n",
    "\n",
    "print(data)\n",
    "print(out)\n",
    "\n",
    "##forward difference O(h^2)\n",
    "def forward_oh2(x2,xn1,x0,h):\n",
    "    return round((-x2 + 4*xn1 - 3*x0)/(2*h),6)\n",
    "\n",
    "##backward difference O(h^2)\n",
    "def backward_oh2(x0,x1,x2,h):\n",
    "    return round((3*x0 - 4*x1 +x2)/(2*h),6)\n",
    "\n",
    "##centered difference O(h^4)\n",
    "def centered_oh4(x2, x1, xn1, xn2, h):\n",
    "    return round((-x2 + 8*x1 - 8*xn1 + xn2)/(12*h),6)\n",
    "\n",
    "print(forward_oh2(out[-1], out[-2], out[-3], .25))\n",
    "print(backward_oh2(out[2], out[1], out[0], .25))\n",
    "print(centered_oh4(out[-1], out[-2], out[1], out[0], .25))"
   ]
  },
  {
   "cell_type": "code",
   "execution_count": 21,
   "id": "9bc0897b-6a0d-4d80-bad7-5c39b30a0d01",
   "metadata": {},
   "outputs": [
    {
     "name": "stdout",
     "output_type": "stream",
     "text": [
      "-1.0 -0.934375\n",
      "-0.9125\n"
     ]
    }
   ],
   "source": [
    "## Example 23.2 Richardson Extrapolation\n",
    "# Use equation 23.8 to improve derivative estimation - D ~= 4/3D(h2) - 1/3D(h1)\n",
    "# Use previous example function - step values of 0.5 and 0.25\n",
    "\n",
    "def basic_centerdiff(x1,x2,h):\n",
    "    return (x1 - x2)/(2*h)\n",
    "\n",
    "first = basic_centerdiff(out[-1], out[0], .5)\n",
    "second = basic_centerdiff(out[-2], out[1], .25)\n",
    "\n",
    "print(first,second)\n",
    "\n",
    "def richhardson_extrap(first, second): ## Formula #23.8 \n",
    "    return (4*second - first)/3\n",
    "\n",
    "print(richhardson_extrap(first,second))\n",
    "    \n",
    "##This is the exact output because we are using a FOURTH order polynomial "
   ]
  },
  {
   "cell_type": "code",
   "execution_count": 43,
   "id": "db430209-2d8e-4332-acf0-00d14a833e81",
   "metadata": {},
   "outputs": [
    {
     "name": "stdout",
     "output_type": "stream",
     "text": [
      "-1.3333333333333333\n"
     ]
    },
    {
     "data": {
      "text/plain": [
       "70.55999999999997"
      ]
     },
     "execution_count": 43,
     "metadata": {},
     "output_type": "execute_result"
    }
   ],
   "source": [
    "## Example 23.3 Differentiating Unequally Spaced Data\n",
    "\n",
    "def fouriers(k,p,C,dx):\n",
    "    return -k*p*C*dx\n",
    "\n",
    "def lagrange(a, b, c, d, data): ## a = x || b = xi || c = xi+1 || d = xi-1\n",
    "    first =  data[0] * (2*a - b - c) / ((d - b) * (d - c))\n",
    "    second = data[1] * (2*a - d - c) / ((b - d) * (b - c))\n",
    "    third =  data[2] * (2*a - d - b) / ((c - d) * (c - b))\n",
    "    return first + second + third\n",
    "\n",
    "test_data = [13.5, 12, 10]\n",
    "print(lagrange(0, 1.25, 3.75, 0 , test_data))\n",
    "dx_dt = lagrange(0, 1.25, 3.75, 0 , test_data)\n",
    "fouriers(3.5*10**-7, 1800, 840, dx_dt*100) ## dx_dt times 100 because of m**2 in formula"
   ]
  },
  {
   "cell_type": "code",
   "execution_count": 36,
   "id": "a0889aa4-ff83-4731-836c-48e0133724d8",
   "metadata": {},
   "outputs": [
    {
     "data": {
      "text/plain": [
       "-14.4"
      ]
     },
     "execution_count": 36,
     "metadata": {},
     "output_type": "execute_result"
    }
   ],
   "source": []
  },
  {
   "cell_type": "code",
   "execution_count": null,
   "id": "2495d9ea-c6ea-4a43-a07e-108f0ecf0b48",
   "metadata": {},
   "outputs": [],
   "source": []
  }
 ],
 "metadata": {
  "kernelspec": {
   "display_name": "Python 3 (ipykernel)",
   "language": "python",
   "name": "python3"
  },
  "language_info": {
   "codemirror_mode": {
    "name": "ipython",
    "version": 3
   },
   "file_extension": ".py",
   "mimetype": "text/x-python",
   "name": "python",
   "nbconvert_exporter": "python",
   "pygments_lexer": "ipython3",
   "version": "3.9.7"
  }
 },
 "nbformat": 4,
 "nbformat_minor": 5
}
