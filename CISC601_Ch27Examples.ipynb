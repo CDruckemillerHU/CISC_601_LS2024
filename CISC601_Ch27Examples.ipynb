{
 "cells": [
  {
   "cell_type": "markdown",
   "id": "1f0c0f60-3647-4d30-8dd8-f4df7be0ed8c",
   "metadata": {},
   "source": [
    "Scientific Computing II Numerical Methods for Engineers\n",
    "\n",
    "Chapter 27 - Boundary-Value & Eigenvalue Equations"
   ]
  },
  {
   "cell_type": "code",
   "execution_count": 2,
   "id": "00b1fe9a-c76e-4826-a7be-2702a95e9311",
   "metadata": {},
   "outputs": [
    {
     "name": "stdout",
     "output_type": "stream",
     "text": [
      "Shooting for z(0) = 10\n",
      "Shooting for z(0) = 20\n",
      "Interpolated z(0) = 12.69067393711733\n",
      "x points: [ 0  2  4  6  8 10]\n",
      "Results for z(0) = 12.69067393711733: [ 40.          65.95189019  93.74796505 124.50375051 159.45355395\n",
      " 200.        ]\n"
     ]
    }
   ],
   "source": [
    "import nbimporter\n",
    "import math\n",
    "from CISC601_Ch25Examples import fourth_order, fourth_order_x_only\n",
    "import numpy as np\n",
    "\n",
    "## Example 27.1 The Shooting Method \n",
    "# Constants for the problem\n",
    "L = 10   # Length in meters\n",
    "Ta = 20  # Ambient temperature in degrees Celsius\n",
    "hp = 0.01  # Heat transfer coefficient\n",
    "T1 = 40  # Temperature at x=0\n",
    "T2 = 200  # Boundary condition at x=L\n",
    "h = 2    # Step size for x\n",
    "\n",
    "# ODE system\n",
    "def dy1(x, y):\n",
    "    return y[1]  # dy1/dx = z\n",
    "\n",
    "def dy2(x, y):\n",
    "    return hp * (y[0] - Ta)  # dz/dx = hp * (T - Ta)\n",
    "\n",
    "def dyn(x, y):\n",
    "    return np.array([dy1(x, y), dy2(x, y)])\n",
    "\n",
    "# Fourth-order Runge-Kutta integration (using your provided function)\n",
    "def rk4_step(x, y, h):\n",
    "    return fourth_order(x, y, h, dyn)\n",
    "\n",
    "# Boundary shooting function\n",
    "def shoot_for_z0(z0, x_range):\n",
    "    y = np.array([T1, z0])  # Initial conditions [T(0), z(0)]\n",
    "    results = []\n",
    "    \n",
    "    for x in x_range:\n",
    "        results.append(y[0])  # Store temperature T\n",
    "        y = rk4_step(x, y, h)  # Perform a Runge-Kutta step\n",
    "    return np.array(results)\n",
    "\n",
    "# Main shooting method process\n",
    "x_range = np.arange(0, L + h, h) \n",
    "\n",
    "# Try shooting with z(0) = 10\n",
    "z0_1 = 10\n",
    "print(f'Shooting for z(0) = {z0_1}')\n",
    "y_shot1 = shoot_for_z0(z0_1, x_range)\n",
    "\n",
    "# Try shooting with z(0) = 20\n",
    "z0_2 = 20\n",
    "print(f'Shooting for z(0) = {z0_2}')\n",
    "y_shot2 = shoot_for_z0(z0_2, x_range)\n",
    "\n",
    "# Linear interpolation to estimate z(0) for T(L) = 200 \n",
    "## (Equation 18.2)  -- But this doesn't work because we have specifica values, not a function\n",
    "def linear_interp(f, x0,x1 ,x):  \n",
    "    top = (f(x1) - f(x0) * (x-x0))\n",
    "    bottom = x1 - x0\n",
    "    return f(x0) + top/bottom \n",
    "\n",
    "def linear_interp_REFACTOR(fx0, fx1, x0,x1,x):\n",
    "    top = (fx1-fx0)*(x-x0)\n",
    "    bottom = x1 - x0\n",
    "    return fx0 + top/bottom\n",
    "\n",
    "z0_interp = linear_interp_REFACTOR(z0_1,z0_2, y_shot1[-1], y_shot2[-1], T2)\n",
    "print(f'Interpolated z(0) = {z0_interp}')\n",
    "\n",
    "# Final shooting with interpolated z(0)\n",
    "y_shot_interp = shoot_for_z0(z0_interp, x_range)\n",
    "\n",
    "# Results\n",
    "print(f\"x points: {x_range}\")\n",
    "print(f\"Results for z(0) = {z0_interp}: {y_shot_interp}\")\n",
    "\n",
    "\n"
   ]
  },
  {
   "cell_type": "code",
   "execution_count": 7,
   "id": "769e5c79-91ba-4459-8d35-f83190acbc79",
   "metadata": {},
   "outputs": [
    {
     "name": "stdout",
     "output_type": "stream",
     "text": [
      "x points: [ 0.  2.  4.  6.  8. 10.]\n",
      "T points: [ 40.          65.96983437  93.77846211 124.53822833 159.47952369\n",
      " 200.        ]\n"
     ]
    }
   ],
   "source": [
    "## Example 27.3 Finite Difference Approximation of Boundary-Value Problems\n",
    "\n",
    "import numpy as np\n",
    "\n",
    "n = int(L / h) + 1  # Number of points including boundaries\n",
    "\n",
    "# Set up the grid\n",
    "x = np.linspace(0, L, n)\n",
    "\n",
    "# Create the coefficient matrix A and the right-hand side vector b\n",
    "A = np.zeros((n, n))\n",
    "b = np.zeros(n)\n",
    "\n",
    "# Boundary conditions\n",
    "A[0, 0] = 1  # T(0) = T1\n",
    "b[0] = T1\n",
    "\n",
    "A[-1, -1] = 1  # T(L) = T2\n",
    "b[-1] = T2\n",
    "\n",
    "\n",
    "\n",
    "# Finite difference method for internal points (1 to n-2)\n",
    "for i in range(1, n-1):\n",
    "    A[i, i-1] = 1       # T_{i-1}\n",
    "    A[i, i] = -2 - hp * h**2  # T_i (adjusted for the hp term)\n",
    "    A[i, i+1] = 1       # T_{i+1}\n",
    "    b[i] = -hp * h**2 * Ta  # Right-hand side for each internal point\n",
    "\n",
    "# Solve the linear system\n",
    "T = np.linalg.solve(A, b)\n",
    "\n",
    "# Output results\n",
    "print(f\"x points: {x}\")\n",
    "print(f\"T points: {T}\")\n"
   ]
  },
  {
   "cell_type": "code",
   "execution_count": 29,
   "id": "11f87e8b-b667-454a-bc29-da29ee8b04d0",
   "metadata": {},
   "outputs": [
    {
     "name": "stdout",
     "output_type": "stream",
     "text": [
      "Eigenvalues (ω^2): [15.  5.]\n",
      "Natural frequencies (ω): [3.87298335 2.23606798]\n"
     ]
    }
   ],
   "source": [
    "## Example 27.4 Eigen values and vectors for Mass-Spring System\n",
    "\n",
    "import numpy as np\n",
    "\n",
    "# Given constants\n",
    "k = 200  # N/m (spring constant)\n",
    "m1 = 40  # kg (mass 1)\n",
    "m2 = 40  # kg (mass 2)\n",
    "\n",
    "# Construct the matrix\n",
    "M = np.array([[2 * k / m1, -k / m1],\n",
    "              [-k / m2, 2 * k / m2]])\n",
    "\n",
    "# Compute the eigenvalues (which are ω^2)\n",
    "eigenvalues, eigenvectors = np.linalg.eig(M)\n",
    "\n",
    "# The eigenvalues are ω^2, so to get ω, take the square root\n",
    "frequencies = np.sqrt(eigenvalues)\n",
    "\n",
    "# Output the eigenvalues (ω^2) and natural frequencies (ω)\n",
    "print(f\"Eigenvalues (ω^2): {eigenvalues}\")\n",
    "print(f\"Natural frequencies (ω): {frequencies}\")\n"
   ]
  },
  {
   "cell_type": "code",
   "execution_count": null,
   "id": "c7b82351-9c88-4dc6-ae0d-2049438a7eea",
   "metadata": {},
   "outputs": [],
   "source": []
  },
  {
   "cell_type": "code",
   "execution_count": 6,
   "id": "5b054e25-32be-48e2-9694-b9d8f78b75b2",
   "metadata": {},
   "outputs": [
    {
     "data": {
      "text/plain": [
       "9"
      ]
     },
     "execution_count": 6,
     "metadata": {},
     "output_type": "execute_result"
    }
   ],
   "source": []
  },
  {
   "cell_type": "code",
   "execution_count": null,
   "id": "d3322222-e040-4e2f-86d4-2ebb07bf32be",
   "metadata": {},
   "outputs": [],
   "source": []
  }
 ],
 "metadata": {
  "kernelspec": {
   "display_name": "Python 3 (ipykernel)",
   "language": "python",
   "name": "python3"
  },
  "language_info": {
   "codemirror_mode": {
    "name": "ipython",
    "version": 3
   },
   "file_extension": ".py",
   "mimetype": "text/x-python",
   "name": "python",
   "nbconvert_exporter": "python",
   "pygments_lexer": "ipython3",
   "version": "3.9.7"
  }
 },
 "nbformat": 4,
 "nbformat_minor": 5
}
