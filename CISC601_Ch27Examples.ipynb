{
 "cells": [
  {
   "cell_type": "markdown",
   "id": "1f0c0f60-3647-4d30-8dd8-f4df7be0ed8c",
   "metadata": {},
   "source": [
    "Scientific Computing II Numerical Methods for Engineers\n",
    "\n",
    "Chapter 27 - Boundary-Value & Eigenvalue Equations"
   ]
  },
  {
   "cell_type": "code",
   "execution_count": 22,
   "id": "00b1fe9a-c76e-4826-a7be-2702a95e9311",
   "metadata": {},
   "outputs": [
    {
     "name": "stdout",
     "output_type": "stream",
     "text": [
      "Shooting for z(0) = 10\n",
      "[10.   0.2] [10.2  0.3] [10.3    0.302]\n",
      "[10.60333333  0.40534667] [11.00868  0.51138] [11.11471333  0.51543347]\n",
      "[11.63220484  0.62696107] [12.25916591  0.74328312] [12.37548796  0.74955273]\n",
      "[13.12790604  0.87373714] [14.00164318  1.0050162 ] [14.13292224  1.01375358]\n",
      "[15.15046347  1.15557864] [16.30604211  1.30708328] [16.45754675  1.31863907]\n",
      "[17.78104777  1.48379659] [19.26484436  1.66160706] [19.44265484  1.67644503]\n",
      "Shooting for z(0) = 20\n",
      "[20.   0.2] [20.2  0.4] [20.4    0.402]\n",
      "[20.804    0.60668] [21.41068  0.81472] [21.61872    0.8207868]\n",
      "[22.442916    1.03770791] [23.48062391  1.26213707] [23.70505307  1.27251415]\n",
      "[24.98252244  1.51038196] [26.4929044   1.76020718] [26.74272963  1.775311  ]\n",
      "[28.52474074  2.04367174] [30.56841248  2.32891915] [30.85365989  2.34935587]\n",
      "[33.21172965  2.65897954] [35.87070918  2.99109683] [36.20282648  3.01768663]\n",
      "Interpolated z(0) = 12.69067393711733\n",
      "[12.69067394  0.2       ] [12.89067394  0.32690674] [13.01758068  0.32890674]\n",
      "[13.34800013  0.4595189 ] [13.80751903  0.5929989 ] [13.94099903  0.59759409]\n",
      "[14.54101472  0.73747965] [15.27849437  0.8828898 ] [15.42390452  0.89026459]\n",
      "[16.31759678  1.04503751] [17.36263428  1.20821347] [17.52581025  1.21866385]\n",
      "[18.7490454   1.39453554] [20.14358094  1.58202599] [20.33107139  1.59597135]\n",
      "[21.93294113  1.8       ] [23.73294113  2.01932941] [23.95227054  2.03732941]\n",
      "x points: [ 0  2  4  6  8 10]\n",
      "Results for z(0) = 12.69067393711733: [ 40.          65.95189019  93.74796505 124.50375051 159.45355395\n",
      " 200.        ]\n"
     ]
    }
   ],
   "source": [
    "import nbimporter\n",
    "import math\n",
    "from CISC601_Ch25Examples import fourth_order, fourth_order_x_only\n",
    "import numpy as np\n",
    "\n",
    "## Example 27.1 The Shooting Method \n",
    "# Constants for the problem\n",
    "L = 10   # Length in meters\n",
    "Ta = 20  # Ambient temperature in degrees Celsius\n",
    "hp = 0.01  # Heat transfer coefficient\n",
    "T1 = 40  # Temperature at x=0\n",
    "T2 = 200  # Boundary condition at x=L\n",
    "h = 2    # Step size for x\n",
    "\n",
    "# ODE system\n",
    "def dy1(x, y):\n",
    "    return y[1]  # dy1/dx = z\n",
    "\n",
    "def dy2(x, y):\n",
    "    return hp * (y[0] - Ta)  # dz/dx = hp * (T - Ta)\n",
    "\n",
    "def dyn(x, y):\n",
    "    return np.array([dy1(x, y), dy2(x, y)])\n",
    "\n",
    "# Fourth-order Runge-Kutta integration (using your provided function)\n",
    "def rk4_step(x, y, h):\n",
    "    return fourth_order(x, y, h, dyn)\n",
    "\n",
    "# Boundary shooting function\n",
    "def shoot_for_z0(z0, x_range):\n",
    "    y = np.array([T1, z0])  # Initial conditions [T(0), z(0)]\n",
    "    results = []\n",
    "    \n",
    "    for x in x_range:\n",
    "        results.append(y[0])  # Store temperature T\n",
    "        y = rk4_step(x, y, h)  # Perform a Runge-Kutta step\n",
    "    return np.array(results)\n",
    "\n",
    "# Main shooting method process\n",
    "x_range = np.arange(0, L + h, h)\n",
    "\n",
    "# Try shooting with z(0) = 10\n",
    "z0_1 = 10\n",
    "print(f'Shooting for z(0) = {z0_1}')\n",
    "y_shot1 = shoot_for_z0(z0_1, x_range)\n",
    "\n",
    "# Try shooting with z(0) = 20\n",
    "z0_2 = 20\n",
    "print(f'Shooting for z(0) = {z0_2}')\n",
    "y_shot2 = shoot_for_z0(z0_2, x_range)\n",
    "\n",
    "# Linear interpolation to estimate z(0) for T(L) = 200 \n",
    "## (Equation 18.2)  -- But this doesn't work because we have specifica values, not a function\n",
    "def linear_interp(f, x0,x1 ,x):  \n",
    "    top = (f(x1) - f(x0) * (x-x0))\n",
    "    bottom = x1 - x0\n",
    "    return f(x0) + top/bottom \n",
    "\n",
    "def linear_interp_REFACTOR(fx0, fx1, x0,x1,x):\n",
    "    top = (fx1-fx0)*(x-x0)\n",
    "    bottom = x1 - x0\n",
    "    return fx0 + top/bottom\n",
    "\n",
    "z0_interp = linear_interp_REFACTOR(z0_1,z0_2, y_shot1[-1], y_shot2[-1], T2)\n",
    "print(f'Interpolated z(0) = {z0_interp}')\n",
    "\n",
    "# Final shooting with interpolated z(0)\n",
    "y_shot_interp = shoot_for_z0(z0_interp, x_range)\n",
    "\n",
    "# Results\n",
    "print(f\"x points: {x_range}\")\n",
    "print(f\"Results for z(0) = {z0_interp}: {y_shot_interp}\")\n",
    "\n",
    "\n"
   ]
  },
  {
   "cell_type": "code",
   "execution_count": 27,
   "id": "769e5c79-91ba-4459-8d35-f83190acbc79",
   "metadata": {},
   "outputs": [
    {
     "name": "stdout",
     "output_type": "stream",
     "text": [
      "x points: [ 0.  2.  4.  6.  8. 10.]\n",
      "T points: [ 40.          65.96983437  93.77846211 124.53822833 159.47952369\n",
      " 200.        ]\n"
     ]
    }
   ],
   "source": [
    "## Example 27.3 Finite Difference Approximation of Boundary-Value Problems\n",
    "\n",
    "import numpy as np\n",
    "\n",
    "# Constants for the problem\n",
    "\n",
    "n = int(L / h) + 1  # Number of points including boundaries\n",
    "\n",
    "# Set up the grid\n",
    "x = np.linspace(0, L, n)\n",
    "\n",
    "# Create the coefficient matrix A and the right-hand side vector b\n",
    "A = np.zeros((n, n))\n",
    "b = np.zeros(n)\n",
    "\n",
    "# Boundary conditions\n",
    "A[0, 0] = 1  # T(0) = T1\n",
    "b[0] = T1\n",
    "\n",
    "A[-1, -1] = 1  # T(L) = T2\n",
    "b[-1] = T2\n",
    "\n",
    "# Finite difference method for internal points (1 to n-2)\n",
    "for i in range(1, n-1):\n",
    "    A[i, i-1] = 1       # T_{i-1}\n",
    "    A[i, i] = -2 - hp * h**2  # T_i (adjusted for the hp term)\n",
    "    A[i, i+1] = 1       # T_{i+1}\n",
    "    b[i] = -hp * h**2 * Ta  # Right-hand side for each internal point\n",
    "\n",
    "# Solve the linear system\n",
    "T = np.linalg.solve(A, b)\n",
    "\n",
    "# Output results\n",
    "print(f\"x points: {x}\")\n",
    "print(f\"T points: {T}\")\n"
   ]
  },
  {
   "cell_type": "code",
   "execution_count": 29,
   "id": "11f87e8b-b667-454a-bc29-da29ee8b04d0",
   "metadata": {},
   "outputs": [
    {
     "name": "stdout",
     "output_type": "stream",
     "text": [
      "Eigenvalues (ω^2): [15.  5.]\n",
      "Natural frequencies (ω): [3.87298335 2.23606798]\n"
     ]
    }
   ],
   "source": [
    "## Example 27.4 Eigen values and vectors for Mass-Spring System\n",
    "\n",
    "import numpy as np\n",
    "\n",
    "# Given constants\n",
    "k = 200  # N/m (spring constant)\n",
    "m1 = 40  # kg (mass 1)\n",
    "m2 = 40  # kg (mass 2)\n",
    "\n",
    "# Construct the matrix\n",
    "M = np.array([[2 * k / m1, -k / m1],\n",
    "              [-k / m2, 2 * k / m2]])\n",
    "\n",
    "# Compute the eigenvalues (which are ω^2)\n",
    "eigenvalues, eigenvectors = np.linalg.eig(M)\n",
    "\n",
    "# The eigenvalues are ω^2, so to get ω, take the square root\n",
    "frequencies = np.sqrt(eigenvalues)\n",
    "\n",
    "# Output the eigenvalues (ω^2) and natural frequencies (ω)\n",
    "print(f\"Eigenvalues (ω^2): {eigenvalues}\")\n",
    "print(f\"Natural frequencies (ω): {frequencies}\")\n"
   ]
  },
  {
   "cell_type": "code",
   "execution_count": null,
   "id": "c7b82351-9c88-4dc6-ae0d-2049438a7eea",
   "metadata": {},
   "outputs": [],
   "source": []
  },
  {
   "cell_type": "code",
   "execution_count": null,
   "id": "5b054e25-32be-48e2-9694-b9d8f78b75b2",
   "metadata": {},
   "outputs": [],
   "source": []
  }
 ],
 "metadata": {
  "kernelspec": {
   "display_name": "Python 3 (ipykernel)",
   "language": "python",
   "name": "python3"
  },
  "language_info": {
   "codemirror_mode": {
    "name": "ipython",
    "version": 3
   },
   "file_extension": ".py",
   "mimetype": "text/x-python",
   "name": "python",
   "nbconvert_exporter": "python",
   "pygments_lexer": "ipython3",
   "version": "3.9.7"
  }
 },
 "nbformat": 4,
 "nbformat_minor": 5
}
