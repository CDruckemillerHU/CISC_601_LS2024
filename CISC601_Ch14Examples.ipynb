{
 "cells": [
  {
   "cell_type": "markdown",
   "id": "99c70730-1ee2-4c4e-8e29-8bdc193d0065",
   "metadata": {},
   "source": [
    "Scientific Computing I\n",
    "Numerical Methods for Engineers"
   ]
  },
  {
   "cell_type": "markdown",
   "id": "7bcce175-6a7f-4052-a464-99f8fc15853f",
   "metadata": {},
   "source": [
    "Chapter 14 Examples"
   ]
  },
  {
   "cell_type": "code",
   "execution_count": 36,
   "id": "49b1cabd-0d18-46f0-8336-47ea8fb5ed1c",
   "metadata": {},
   "outputs": [
    {
     "name": "stdout",
     "output_type": "stream",
     "text": [
      "randomized max:  1.2499992913094737\n",
      "actual max:  1.25\n"
     ]
    }
   ],
   "source": [
    "## Example 14.1\n",
    "## Use an RNG to locate the maximum of:\n",
    "## f(x,y) = y-x-2x^2-2xy-y^2\n",
    "## within the domain of -2 <= x <= 2 & 1 <= y <= 3\n",
    "\n",
    "import random\n",
    "def sample_function(x,y):\n",
    "    return y-x-(2*x**2)-(2*x*y)-(y**2)\n",
    "\n",
    "def randomizer(l, u, r=random.random()):\n",
    "    return l + (u- l)*r\n",
    "\n",
    "\n",
    "\n",
    "def random_find_max(f, x, y, current_max):\n",
    "    return max(f(x,y), current_max)\n",
    "     \n",
    "\n",
    "curr_max = -99999\n",
    "for i in range(5000):\n",
    "    r = random.random()\n",
    "    curr_max = random_find_max(\n",
    "        sample_function, \n",
    "        randomizer(-2,2,r), \n",
    "        randomizer(1,3,r), curr_max)\n",
    "\n",
    "print(\"randomized max: \", curr_max)\n",
    "print(\"actual max: \", sample_function(-1,1.5))"
   ]
  },
  {
   "cell_type": "code",
   "execution_count": null,
   "id": "766ffcce-98a9-4b0a-93af-d906e5eee3e6",
   "metadata": {},
   "outputs": [],
   "source": []
  },
  {
   "cell_type": "code",
   "execution_count": 40,
   "id": "49635a03-4230-4acf-a7b6-ad7b1ea15ba4",
   "metadata": {},
   "outputs": [
    {
     "name": "stdout",
     "output_type": "stream",
     "text": [
      "8\n"
     ]
    }
   ],
   "source": [
    "## Example 14.2\n",
    "## Employ the gradient to evaluate the steepest ascent direction for hte function\n",
    "## f(x,y) = xy^2 at the point (2,2). Assume positive X points east and positive y points north\n",
    "\n",
    "def sample_function(x,y):\n",
    "    return x*y**2\n",
    "\n",
    "print(sample_function(2,2))\n",
    "\n",
    "##df/dx = y**2 = 2**2 = 4\n",
    "\n",
    "##df/dy = 2*x*y = 2*2*2 = 8\n",
    "\n",
    "##gradient = 4i + 8j\n",
    "\n",
    "##theta = tan**-1(8/4) = 1.107r\n",
    "\n",
    "#math.sqrt(4**2 + 8**2) = 8.944"
   ]
  },
  {
   "cell_type": "code",
   "execution_count": 43,
   "id": "3a31322b-c212-4b12-8b1f-3d7219a179d1",
   "metadata": {},
   "outputs": [],
   "source": [
    "## Example 14.3\n",
    "## Using the 2-D function:\n",
    "## f(x,y) = 2xy + 2x-x^2-2y^2\n",
    "## Develop a 1D version of this equation along the gradient direction at point x=-1 y=1\n",
    "\n",
    "##df/dx = 2y + 2 -2x = 6 @ -1,1\n",
    "#df/dy = 2x - 4y = -6 @ -1,1\n",
    "#vector = 6i - 6j\n",
    "## Using slope-intercept form we develop f(-1+6h, 1-6h)\n",
    "## Plug -1+6h = x and 1-6h = y into the original f(x,y)\n",
    "## This simplifies to g(h) = -180h^2 + 72*h -7"
   ]
  },
  {
   "cell_type": "code",
   "execution_count": 45,
   "id": "69dbf1d7-23f8-4114-a77f-5cb65a82a2f2",
   "metadata": {},
   "outputs": [
    {
     "name": "stdout",
     "output_type": "stream",
     "text": [
      "1.2000000000000002\n",
      "1.2000000000000002\n"
     ]
    }
   ],
   "source": [
    "## Example 14.4\n",
    "## Max the following function:\n",
    "## f(x,y) = 2xy + 2x - x^2 -2y^2\n",
    "## Using initial guessses of x = -1 and y = 1\n",
    "## Analyitical solution (follow example to get to f(2,1) = max.\n",
    "\n",
    "##Now for the coding part!\n",
    "\n",
    "def partial_x(x,y):\n",
    "    return 2*y + 2 -2*x\n",
    "\n",
    "def partial_y(x,y):\n",
    "    return 2*x-4*y\n",
    "\n",
    "def g(h):\n",
    "    return -180*h**2+72*h-7\n",
    "\n",
    "def g_prime(h): ## solve for 0 anaylicallty = .2\n",
    "    return -360*h + 72\n",
    "\n",
    "##x = -1 + 6(.2) = .2\n",
    "##y = 1 - 6(.2) = -.2\n",
    "\n",
    "print(partial_x(.2, -.2)) ##1.2\n",
    "print(partial_y(.2,-.2)) ##1.2\n",
    "\n",
    "## new gradient = 1.2i + 1.2j\n",
    "## both coeffs are positive so the steepest gradient is up and to the right at a 45\n",
    "## x = .2 +1.2h\n",
    "## y = -.2 +1.2h\n",
    "\n",
    "##similar to how we solved using slope-intercept in the previous example we get g'(h) = -2.88h + 2.88, g'(1) = 0\n",
    "## x=.2 + 1.2(1) = 1.4\n",
    "## y=-.2 + 1.2(1) = 1\n",
    "\n",
    "## plug 1.4 and 1 into the partial derivs of x and y again to get a new gradient\n",
    "## new gradient makes new slope-intercept\n",
    "## new slope intercept makes new g(h)\n",
    "## continue this partern until analyical result is converged on (2,1)"
   ]
  },
  {
   "cell_type": "code",
   "execution_count": null,
   "id": "d450967d-2378-42e5-a6ae-fb467e08b9bc",
   "metadata": {},
   "outputs": [],
   "source": []
  }
 ],
 "metadata": {
  "kernelspec": {
   "display_name": "Python 3 (ipykernel)",
   "language": "python",
   "name": "python3"
  },
  "language_info": {
   "codemirror_mode": {
    "name": "ipython",
    "version": 3
   },
   "file_extension": ".py",
   "mimetype": "text/x-python",
   "name": "python",
   "nbconvert_exporter": "python",
   "pygments_lexer": "ipython3",
   "version": "3.9.7"
  }
 },
 "nbformat": 4,
 "nbformat_minor": 5
}
