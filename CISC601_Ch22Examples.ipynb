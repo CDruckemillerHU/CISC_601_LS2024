{
 "cells": [
  {
   "cell_type": "markdown",
   "id": "a1732569-12fc-4223-b590-972bad2b97ff",
   "metadata": {},
   "source": [
    "Scientific Computing I Numerical Methods for Engineers\n",
    "\n",
    "Chapter 22 Examples"
   ]
  },
  {
   "cell_type": "code",
   "execution_count": 75,
   "id": "b7fe0aab-bcfa-4fbc-b249-57dc35c4f2a4",
   "metadata": {},
   "outputs": [
    {
     "name": "stdout",
     "output_type": "stream",
     "text": [
      "1.3674666666666666\n",
      "1.6234666666666664\n"
     ]
    }
   ],
   "source": [
    "## Example 22.1 Error Corrections of the Trap Rule\n",
    "\n",
    "def segmented_interpolation(i1, i2):\n",
    "    return (4*i2)/3 - i1/3\n",
    "\n",
    "print(segmented_interpolation(.1728,1.0688))\n",
    "print(segmented_interpolation(1.0688, 1.4848))\n"
   ]
  },
  {
   "cell_type": "code",
   "execution_count": 76,
   "id": "6dff6139-df61-44b0-823a-ea10369aed6d",
   "metadata": {},
   "outputs": [
    {
     "name": "stdout",
     "output_type": "stream",
     "text": [
      "1.6405336666666666\n"
     ]
    }
   ],
   "source": [
    "## Example 22.2 Higher-Order Correction of Integral Estiamtes\n",
    "\n",
    "def higher_order_integral(im, il):\n",
    "    return 16*im/15 - il/15\n",
    "\n",
    "\n",
    "print(higher_order_integral(1.623467, 1.367467))"
   ]
  },
  {
   "cell_type": "code",
   "execution_count": 74,
   "id": "6fcd7f4c-aa6e-4949-a6c3-4f0a7b7463da",
   "metadata": {},
   "outputs": [
    {
     "name": "stdout",
     "output_type": "stream",
     "text": [
      "1.8225777777777772\n"
     ]
    }
   ],
   "source": [
    "## Example 22.3 Two-Ppint Gauss-Legendre Formula\n",
    "## Use Eq. 22.23 to evaluate the integral f(x) = .2 + 25x - 200x^2 + 675x^3 - 900x^4 + 400x^5\n",
    "\n",
    "\n",
    "def example_function(x):\n",
    "    return .2 + 25*x - 200*x**2 + 675*x**3 -900*x**4 + 400*x**5\n",
    "\n",
    "\n",
    "def transform_points(points, a, b):\n",
    "    return 0.5 * (points * (b - a) + (b + a))\n",
    "\n",
    "\n",
    "def example_function_integrating(xd):\n",
    "    x = (.4+.4*xd)\n",
    "    return example_function(x)*.4\n",
    "\n",
    "x1 = example_function_integrating(-1/3**.5)\n",
    "x2 = example_function_integrating(1/3**.5)\n",
    "\n",
    "def gauss_legendre(f1, f2):\n",
    "    return f1+f2\n",
    "\n",
    "print(gauss_legendre(x1, x2))\n"
   ]
  },
  {
   "cell_type": "code",
   "execution_count": 84,
   "id": "a60629d3-d417-45b0-90d0-d92719d79db5",
   "metadata": {},
   "outputs": [
    {
     "name": "stdout",
     "output_type": "stream",
     "text": [
      "1.6405333333333294\n"
     ]
    }
   ],
   "source": [
    "## Example 22.4 Three-Point Gauss-Legendre Formula\n",
    "# Use 3 point formula with Tabular data\n",
    "import numpy as np\n",
    "\n",
    "\n",
    "\n",
    "def x_point_gauss_legendre(ex_func, a, b, num_points):\n",
    "    points, weights = np.polynomial.legendre.leggauss(num_points)\n",
    "    transformed_points = transform_points(points, a, b)\n",
    "    integral = sum(weights[i] * ex_func(transformed_points[i]) for i in range(num_points))\n",
    "    return 0.5 * (b - a) * integral\n",
    "\n",
    "\n",
    "print(x_point_gauss_legendre(example_function, 0, .8, 3))\n",
    "    \n"
   ]
  },
  {
   "cell_type": "code",
   "execution_count": 85,
   "id": "d53b1d0c-6e40-445d-aa8d-97e474f0a0aa",
   "metadata": {},
   "outputs": [
    {
     "name": "stdout",
     "output_type": "stream",
     "text": [
      "290.0144778198177\n",
      "289.43929729105486\n",
      "289.4351622889875\n",
      "289.4351465484565\n",
      "289.4351465113536\n"
     ]
    }
   ],
   "source": [
    "## Example 22.5 Applying Gauss Quadrate to the Falling Parachutist Problem\n",
    "\n",
    "import math\n",
    "\n",
    "\n",
    "def skydiver(t, g=9.8, c=12.5, m=68.1):\n",
    "    internal = 1 - math.exp(-1*(c/m)*t)\n",
    "    return g * m / c * internal\n",
    "\n",
    "for i in range(2,7):\n",
    "    print(x_point_gauss_legendre(skydiver,0,10,i))\n",
    "\n",
    "    "
   ]
  },
  {
   "cell_type": "code",
   "execution_count": null,
   "id": "d1ecdf92-f5bf-4b33-80a1-701f942f77e5",
   "metadata": {},
   "outputs": [],
   "source": []
  },
  {
   "cell_type": "code",
   "execution_count": null,
   "id": "95a343e8-b2da-4396-9a7d-ae7ad900014d",
   "metadata": {},
   "outputs": [],
   "source": []
  }
 ],
 "metadata": {
  "kernelspec": {
   "display_name": "Python 3 (ipykernel)",
   "language": "python",
   "name": "python3"
  },
  "language_info": {
   "codemirror_mode": {
    "name": "ipython",
    "version": 3
   },
   "file_extension": ".py",
   "mimetype": "text/x-python",
   "name": "python",
   "nbconvert_exporter": "python",
   "pygments_lexer": "ipython3",
   "version": "3.9.7"
  }
 },
 "nbformat": 4,
 "nbformat_minor": 5
}
