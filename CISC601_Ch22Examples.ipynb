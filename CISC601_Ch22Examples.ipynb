{
 "cells": [
  {
   "cell_type": "markdown",
   "id": "a1732569-12fc-4223-b590-972bad2b97ff",
   "metadata": {},
   "source": [
    "Scientific Computing I Numerical Methods for Engineers\n",
    "\n",
    "Chapter 22 Examples"
   ]
  },
  {
   "cell_type": "code",
   "execution_count": 75,
   "id": "b7fe0aab-bcfa-4fbc-b249-57dc35c4f2a4",
   "metadata": {},
   "outputs": [
    {
     "name": "stdout",
     "output_type": "stream",
     "text": [
      "1.3674666666666666\n",
      "1.6234666666666664\n"
     ]
    }
   ],
   "source": [
    "## Example 22.1 Error Corrections of the Trap Rule\n",
    "\n",
    "def segmented_interpolation(i1, i2):\n",
    "    return (4*i2)/3 - i1/3\n",
    "\n",
    "print(segmented_interpolation(.1728,1.0688))\n",
    "print(segmented_interpolation(1.0688, 1.4848))\n"
   ]
  },
  {
   "cell_type": "code",
   "execution_count": 76,
   "id": "6dff6139-df61-44b0-823a-ea10369aed6d",
   "metadata": {},
   "outputs": [
    {
     "name": "stdout",
     "output_type": "stream",
     "text": [
      "1.6405336666666666\n"
     ]
    }
   ],
   "source": [
    "## Example 22.2 Higher-Order Correction of Integral Estiamtes\n",
    "\n",
    "def higher_order_integral(i1, i2):\n",
    "    return 16*im/15 - il/15\n",
    "\n",
    "\n",
    "print(higher_order_integral(1.623467, 1.367467))"
   ]
  },
  {
   "cell_type": "code",
   "execution_count": 8,
   "id": "0f9904f4-cd00-4547-b755-b0384590d39f",
   "metadata": {},
   "outputs": [
    {
     "name": "stdout",
     "output_type": "stream",
     "text": [
      "-0.12586666666666663\n"
     ]
    }
   ],
   "source": [
    "def richardson_extrap(finer, coarser, finer_frac, coarser_frac):\n",
    "    return ((finer_frac)*finer) - ((coarser_frac)*coarser)\n",
    "\n",
    "\n",
    "print(richardson_extrap(.1728,1.0688, 4/3, 1/3))"
   ]
  },
  {
   "cell_type": "code",
   "execution_count": 2,
   "id": "d5b3c72f-8ee5-4205-9ca7-4f13c2d4ad71",
   "metadata": {},
   "outputs": [
    {
     "name": "stdout",
     "output_type": "stream",
     "text": [
      "Estimated integral using 2-point Gaussian-Legendre: 1.8225777777777772\n"
     ]
    }
   ],
   "source": [
    "## Example 22.3 Two-Point Gauss-Legendre Formula\n",
    "\n",
    "import numpy as np\n",
    "\n",
    "def example_function(x):\n",
    "    return 0.2 + 25 * x - 200 * x**2 + 675 * x**3 - 900 * x**4 + 400 * x**5\n",
    "\n",
    "def transform_points(points, a, b):\n",
    "    \"\"\"\n",
    "    Transforms Gauss-Legendre nodes from [-1, 1] to [a, b].\n",
    "    Formula: 0.5 * (points * (b - a) + (b + a)).\n",
    "    \"\"\"\n",
    "    return 0.5 * (points * (b - a) + (b + a))\n",
    "\n",
    "def gauss_legendre_integration(func, a, b, nodes, weights):\n",
    "    \"\"\"\n",
    "    Performs Gaussian-Legendre integration with given nodes and weights.\n",
    "    - func: Function to integrate.\n",
    "    - a, b: Integration limits.\n",
    "    - nodes: Gauss-Legendre nodes.\n",
    "    - weights: Corresponding weights.\n",
    "    \"\"\"\n",
    "    # Transform nodes to interval [a, b]\n",
    "    transformed_nodes = transform_points(nodes, a, b)\n",
    "    # Evaluate function at the transformed nodes\n",
    "    evaluations = func(transformed_nodes)\n",
    "    # Calculate integral approximation\n",
    "    integral = 0.5 * (b - a) * np.dot(weights, evaluations)\n",
    "    return integral\n",
    "\n",
    "# Define 2-point Gauss-Legendre nodes and weights\n",
    "nodes = np.array([-1 / np.sqrt(3), 1 / np.sqrt(3)])\n",
    "weights = np.array([1, 1])\n",
    "\n",
    "# Integrate the example function over the interval [0, 0.8]\n",
    "integral_result = gauss_legendre_integration(example_function, 0, 0.8, nodes, weights)\n",
    "\n",
    "print(f\"Estimated integral using 2-point Gaussian-Legendre: {integral_result}\")\n"
   ]
  },
  {
   "cell_type": "code",
   "execution_count": 12,
   "id": "a60629d3-d417-45b0-90d0-d92719d79db5",
   "metadata": {},
   "outputs": [
    {
     "name": "stdout",
     "output_type": "stream",
     "text": [
      "Estimated integral using 3-point Gaussian-Legendre: 1.6405333333333294\n"
     ]
    }
   ],
   "source": [
    "## Example 22.4 Three-Point Gauss-Legendre Formula\n",
    "# Use 3 point formula with Tabular data\n",
    "\n",
    "\n",
    "def x_point_gauss_legendre(ex_func, a, b, num_points):\n",
    "    \"\"\"\n",
    "    Generalized Gauss-Legendre integration for arbitrary number of points.\n",
    "    - ex_func: Function to integrate.\n",
    "    - a, b: Integration limits.\n",
    "    - num_points: Number of Gauss-Legendre points to use.\n",
    "    \"\"\"\n",
    "    # Generate Gauss-Legendre nodes and weights\n",
    "    points, weights = np.polynomial.legendre.leggauss(num_points)\n",
    "    # Transform nodes to interval [a, b]\n",
    "    transformed_points = transform_points(points, a, b)\n",
    "    # Evaluate function and calculate integral\n",
    "    integral = sum(weights[i] * ex_func(transformed_points[i]) for i in range(num_points))\n",
    "    return 0.5 * (b - a) * integral\n",
    "\n",
    "# Integrate the example function over the interval [0, 0.8] using 3-point Gauss-Legendre\n",
    "result = x_point_gauss_legendre(example_function, 0, 0.8, 3)\n",
    "\n",
    "print(f\"Estimated integral using 3-point Gaussian-Legendre: {result}\")\n",
    "\n",
    "    \n"
   ]
  },
  {
   "cell_type": "code",
   "execution_count": 89,
   "id": "d53b1d0c-6e40-445d-aa8d-97e474f0a0aa",
   "metadata": {},
   "outputs": [
    {
     "name": "stdout",
     "output_type": "stream",
     "text": [
      "290.0144778198177\n",
      "289.43929729105486\n",
      "289.4351622889875\n",
      "289.4351465484565\n",
      "289.4351465113536\n"
     ]
    }
   ],
   "source": [
    "## Example 22.5 Applying Gauss Quadrate to the Falling Parachutist Problem\n",
    "\n",
    "import math\n",
    "\n",
    "\n",
    "def skydiver(t, g=9.8, c=12.5, m=68.1):\n",
    "    internal = 1 - math.exp(-1*(c/m)*t) ##== e^-(c/m)*t\n",
    "    return g * m / c * internal\n",
    "\n",
    "for i in range(2,7):\n",
    "    print(x_point_gauss_legendre(skydiver,0,10,i))\n",
    "\n",
    "    "
   ]
  },
  {
   "cell_type": "code",
   "execution_count": null,
   "id": "d1ecdf92-f5bf-4b33-80a1-701f942f77e5",
   "metadata": {},
   "outputs": [],
   "source": []
  },
  {
   "cell_type": "code",
   "execution_count": null,
   "id": "95a343e8-b2da-4396-9a7d-ae7ad900014d",
   "metadata": {},
   "outputs": [],
   "source": []
  }
 ],
 "metadata": {
  "kernelspec": {
   "display_name": "Python 3 (ipykernel)",
   "language": "python",
   "name": "python3"
  },
  "language_info": {
   "codemirror_mode": {
    "name": "ipython",
    "version": 3
   },
   "file_extension": ".py",
   "mimetype": "text/x-python",
   "name": "python",
   "nbconvert_exporter": "python",
   "pygments_lexer": "ipython3",
   "version": "3.9.7"
  }
 },
 "nbformat": 4,
 "nbformat_minor": 5
}
